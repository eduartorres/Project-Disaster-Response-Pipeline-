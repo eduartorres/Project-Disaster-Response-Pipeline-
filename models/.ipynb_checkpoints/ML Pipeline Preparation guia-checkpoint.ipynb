{
 "cells": [
  {
   "cell_type": "markdown",
   "metadata": {},
   "source": [
    "# ML Pipeline Preparation\n",
    "Follow the instructions below to help you create your ML pipeline.\n",
    "### 1. Import libraries and load data from database.\n",
    "- Import Python libraries\n",
    "- Load dataset from database with [`read_sql_table`](https://pandas.pydata.org/pandas-docs/stable/generated/pandas.read_sql_table.html)\n",
    "- Define feature and target variables X and Y"
   ]
  },
  {
   "cell_type": "code",
   "execution_count": 52,
   "metadata": {},
   "outputs": [
    {
     "name": "stderr",
     "output_type": "stream",
     "text": [
      "[nltk_data] Downloading package punkt to\n",
      "[nltk_data]     C:\\Users\\FELIPE\\AppData\\Roaming\\nltk_data...\n",
      "[nltk_data]   Package punkt is already up-to-date!\n",
      "[nltk_data] Downloading package wordnet to\n",
      "[nltk_data]     C:\\Users\\FELIPE\\AppData\\Roaming\\nltk_data...\n",
      "[nltk_data]   Package wordnet is already up-to-date!\n",
      "[nltk_data] Downloading package averaged_perceptron_tagger to\n",
      "[nltk_data]     C:\\Users\\FELIPE\\AppData\\Roaming\\nltk_data...\n",
      "[nltk_data]   Package averaged_perceptron_tagger is already up-to-\n",
      "[nltk_data]       date!\n"
     ]
    },
    {
     "data": {
      "text/plain": [
       "True"
      ]
     },
     "execution_count": 52,
     "metadata": {},
     "output_type": "execute_result"
    }
   ],
   "source": [
    "import nltk\n",
    "nltk.download('punkt')\n",
    "nltk.download('wordnet')\n",
    "nltk.download('averaged_perceptron_tagger')"
   ]
  },
  {
   "cell_type": "code",
   "execution_count": 78,
   "metadata": {},
   "outputs": [],
   "source": [
    "# import libraries\n",
    "import os\n",
    "import re\n",
    "import sys\n",
    "import pickle\n",
    "import datetime\n",
    "import warnings\n",
    "import numpy as np\n",
    "import pandas as pd\n",
    "import matplotlib.pyplot as plt\n",
    "from sqlalchemy import create_engine\n",
    "from scipy import stats\n",
    "\n",
    "from scipy.stats import gmean\n",
    "\n",
    "# import relevant functions/modules from the sklearn\n",
    "from nltk.corpus import stopwords \n",
    "from sklearn import preprocessing\n",
    "from sklearn.naive_bayes import MultinomialNB\n",
    "from sklearn.pipeline import Pipeline, FeatureUnion\n",
    "from sklearn.preprocessing import StandardScaler\n",
    "from sklearn.model_selection import GridSearchCV\n",
    "from sklearn.model_selection import RandomizedSearchCV\n",
    "from sklearn.metrics import classification_report\n",
    "from sklearn.metrics import confusion_matrix\n",
    "from sklearn.metrics import fbeta_score, make_scorer\n",
    "from sklearn.feature_extraction.text import TfidfTransformer, CountVectorizer\n",
    "from sklearn.multioutput import MultiOutputClassifier\n",
    "from sklearn.base import BaseEstimator,TransformerMixin\n",
    "from sklearn.model_selection import train_test_split\n",
    "from sklearn.ensemble import GradientBoostingClassifier, RandomForestClassifier, AdaBoostClassifier"
   ]
  },
  {
   "cell_type": "code",
   "execution_count": 54,
   "metadata": {},
   "outputs": [],
   "source": [
    "# load data from database\n",
    "database_filepath = \"../data/disaster_response_db.db\"\n",
    "engine = create_engine('sqlite:///' + database_filepath)\n",
    "table_name = os.path.basename(database_filepath).replace(\".db\",\"\") + \"_table\"\n",
    "df = pd.read_sql_table(table_name,engine)"
   ]
  },
  {
   "cell_type": "code",
   "execution_count": 55,
   "metadata": {},
   "outputs": [
    {
     "name": "stdout",
     "output_type": "stream",
     "text": [
      "the dataset has 26216 rows and 40 columns.\n"
     ]
    }
   ],
   "source": [
    "print('the dataset has', df.shape[0], 'rows and', df.shape[1], 'columns.')"
   ]
  },
  {
   "cell_type": "code",
   "execution_count": 56,
   "metadata": {},
   "outputs": [
    {
     "data": {
      "text/html": [
       "<div>\n",
       "<style scoped>\n",
       "    .dataframe tbody tr th:only-of-type {\n",
       "        vertical-align: middle;\n",
       "    }\n",
       "\n",
       "    .dataframe tbody tr th {\n",
       "        vertical-align: top;\n",
       "    }\n",
       "\n",
       "    .dataframe thead th {\n",
       "        text-align: right;\n",
       "    }\n",
       "</style>\n",
       "<table border=\"1\" class=\"dataframe\">\n",
       "  <thead>\n",
       "    <tr style=\"text-align: right;\">\n",
       "      <th></th>\n",
       "      <th>id</th>\n",
       "      <th>related</th>\n",
       "      <th>request</th>\n",
       "      <th>offer</th>\n",
       "      <th>aid_related</th>\n",
       "      <th>medical_help</th>\n",
       "      <th>medical_products</th>\n",
       "      <th>search_and_rescue</th>\n",
       "      <th>security</th>\n",
       "      <th>military</th>\n",
       "      <th>...</th>\n",
       "      <th>aid_centers</th>\n",
       "      <th>other_infrastructure</th>\n",
       "      <th>weather_related</th>\n",
       "      <th>floods</th>\n",
       "      <th>storm</th>\n",
       "      <th>fire</th>\n",
       "      <th>earthquake</th>\n",
       "      <th>cold</th>\n",
       "      <th>other_weather</th>\n",
       "      <th>direct_report</th>\n",
       "    </tr>\n",
       "  </thead>\n",
       "  <tbody>\n",
       "    <tr>\n",
       "      <th>count</th>\n",
       "      <td>26216.00000</td>\n",
       "      <td>26216.000000</td>\n",
       "      <td>26216.000000</td>\n",
       "      <td>26216.000000</td>\n",
       "      <td>26216.000000</td>\n",
       "      <td>26216.000000</td>\n",
       "      <td>26216.000000</td>\n",
       "      <td>26216.000000</td>\n",
       "      <td>26216.000000</td>\n",
       "      <td>26216.000000</td>\n",
       "      <td>...</td>\n",
       "      <td>26216.000000</td>\n",
       "      <td>26216.000000</td>\n",
       "      <td>26216.000000</td>\n",
       "      <td>26216.000000</td>\n",
       "      <td>26216.000000</td>\n",
       "      <td>26216.000000</td>\n",
       "      <td>26216.000000</td>\n",
       "      <td>26216.000000</td>\n",
       "      <td>26216.000000</td>\n",
       "      <td>26216.000000</td>\n",
       "    </tr>\n",
       "    <tr>\n",
       "      <th>mean</th>\n",
       "      <td>15224.82133</td>\n",
       "      <td>0.773650</td>\n",
       "      <td>0.170659</td>\n",
       "      <td>0.004501</td>\n",
       "      <td>0.414251</td>\n",
       "      <td>0.079493</td>\n",
       "      <td>0.050084</td>\n",
       "      <td>0.027617</td>\n",
       "      <td>0.017966</td>\n",
       "      <td>0.032804</td>\n",
       "      <td>...</td>\n",
       "      <td>0.011787</td>\n",
       "      <td>0.043904</td>\n",
       "      <td>0.278341</td>\n",
       "      <td>0.082202</td>\n",
       "      <td>0.093187</td>\n",
       "      <td>0.010757</td>\n",
       "      <td>0.093645</td>\n",
       "      <td>0.020217</td>\n",
       "      <td>0.052487</td>\n",
       "      <td>0.193584</td>\n",
       "    </tr>\n",
       "    <tr>\n",
       "      <th>std</th>\n",
       "      <td>8826.88914</td>\n",
       "      <td>0.435276</td>\n",
       "      <td>0.376218</td>\n",
       "      <td>0.066940</td>\n",
       "      <td>0.492602</td>\n",
       "      <td>0.270513</td>\n",
       "      <td>0.218122</td>\n",
       "      <td>0.163875</td>\n",
       "      <td>0.132831</td>\n",
       "      <td>0.178128</td>\n",
       "      <td>...</td>\n",
       "      <td>0.107927</td>\n",
       "      <td>0.204887</td>\n",
       "      <td>0.448191</td>\n",
       "      <td>0.274677</td>\n",
       "      <td>0.290700</td>\n",
       "      <td>0.103158</td>\n",
       "      <td>0.291340</td>\n",
       "      <td>0.140743</td>\n",
       "      <td>0.223011</td>\n",
       "      <td>0.395114</td>\n",
       "    </tr>\n",
       "    <tr>\n",
       "      <th>min</th>\n",
       "      <td>2.00000</td>\n",
       "      <td>0.000000</td>\n",
       "      <td>0.000000</td>\n",
       "      <td>0.000000</td>\n",
       "      <td>0.000000</td>\n",
       "      <td>0.000000</td>\n",
       "      <td>0.000000</td>\n",
       "      <td>0.000000</td>\n",
       "      <td>0.000000</td>\n",
       "      <td>0.000000</td>\n",
       "      <td>...</td>\n",
       "      <td>0.000000</td>\n",
       "      <td>0.000000</td>\n",
       "      <td>0.000000</td>\n",
       "      <td>0.000000</td>\n",
       "      <td>0.000000</td>\n",
       "      <td>0.000000</td>\n",
       "      <td>0.000000</td>\n",
       "      <td>0.000000</td>\n",
       "      <td>0.000000</td>\n",
       "      <td>0.000000</td>\n",
       "    </tr>\n",
       "    <tr>\n",
       "      <th>25%</th>\n",
       "      <td>7446.75000</td>\n",
       "      <td>1.000000</td>\n",
       "      <td>0.000000</td>\n",
       "      <td>0.000000</td>\n",
       "      <td>0.000000</td>\n",
       "      <td>0.000000</td>\n",
       "      <td>0.000000</td>\n",
       "      <td>0.000000</td>\n",
       "      <td>0.000000</td>\n",
       "      <td>0.000000</td>\n",
       "      <td>...</td>\n",
       "      <td>0.000000</td>\n",
       "      <td>0.000000</td>\n",
       "      <td>0.000000</td>\n",
       "      <td>0.000000</td>\n",
       "      <td>0.000000</td>\n",
       "      <td>0.000000</td>\n",
       "      <td>0.000000</td>\n",
       "      <td>0.000000</td>\n",
       "      <td>0.000000</td>\n",
       "      <td>0.000000</td>\n",
       "    </tr>\n",
       "    <tr>\n",
       "      <th>50%</th>\n",
       "      <td>15662.50000</td>\n",
       "      <td>1.000000</td>\n",
       "      <td>0.000000</td>\n",
       "      <td>0.000000</td>\n",
       "      <td>0.000000</td>\n",
       "      <td>0.000000</td>\n",
       "      <td>0.000000</td>\n",
       "      <td>0.000000</td>\n",
       "      <td>0.000000</td>\n",
       "      <td>0.000000</td>\n",
       "      <td>...</td>\n",
       "      <td>0.000000</td>\n",
       "      <td>0.000000</td>\n",
       "      <td>0.000000</td>\n",
       "      <td>0.000000</td>\n",
       "      <td>0.000000</td>\n",
       "      <td>0.000000</td>\n",
       "      <td>0.000000</td>\n",
       "      <td>0.000000</td>\n",
       "      <td>0.000000</td>\n",
       "      <td>0.000000</td>\n",
       "    </tr>\n",
       "    <tr>\n",
       "      <th>75%</th>\n",
       "      <td>22924.25000</td>\n",
       "      <td>1.000000</td>\n",
       "      <td>0.000000</td>\n",
       "      <td>0.000000</td>\n",
       "      <td>1.000000</td>\n",
       "      <td>0.000000</td>\n",
       "      <td>0.000000</td>\n",
       "      <td>0.000000</td>\n",
       "      <td>0.000000</td>\n",
       "      <td>0.000000</td>\n",
       "      <td>...</td>\n",
       "      <td>0.000000</td>\n",
       "      <td>0.000000</td>\n",
       "      <td>1.000000</td>\n",
       "      <td>0.000000</td>\n",
       "      <td>0.000000</td>\n",
       "      <td>0.000000</td>\n",
       "      <td>0.000000</td>\n",
       "      <td>0.000000</td>\n",
       "      <td>0.000000</td>\n",
       "      <td>0.000000</td>\n",
       "    </tr>\n",
       "    <tr>\n",
       "      <th>max</th>\n",
       "      <td>30265.00000</td>\n",
       "      <td>2.000000</td>\n",
       "      <td>1.000000</td>\n",
       "      <td>1.000000</td>\n",
       "      <td>1.000000</td>\n",
       "      <td>1.000000</td>\n",
       "      <td>1.000000</td>\n",
       "      <td>1.000000</td>\n",
       "      <td>1.000000</td>\n",
       "      <td>1.000000</td>\n",
       "      <td>...</td>\n",
       "      <td>1.000000</td>\n",
       "      <td>1.000000</td>\n",
       "      <td>1.000000</td>\n",
       "      <td>1.000000</td>\n",
       "      <td>1.000000</td>\n",
       "      <td>1.000000</td>\n",
       "      <td>1.000000</td>\n",
       "      <td>1.000000</td>\n",
       "      <td>1.000000</td>\n",
       "      <td>1.000000</td>\n",
       "    </tr>\n",
       "  </tbody>\n",
       "</table>\n",
       "<p>8 rows × 37 columns</p>\n",
       "</div>"
      ],
      "text/plain": [
       "                id       related       request         offer   aid_related  \\\n",
       "count  26216.00000  26216.000000  26216.000000  26216.000000  26216.000000   \n",
       "mean   15224.82133      0.773650      0.170659      0.004501      0.414251   \n",
       "std     8826.88914      0.435276      0.376218      0.066940      0.492602   \n",
       "min        2.00000      0.000000      0.000000      0.000000      0.000000   \n",
       "25%     7446.75000      1.000000      0.000000      0.000000      0.000000   \n",
       "50%    15662.50000      1.000000      0.000000      0.000000      0.000000   \n",
       "75%    22924.25000      1.000000      0.000000      0.000000      1.000000   \n",
       "max    30265.00000      2.000000      1.000000      1.000000      1.000000   \n",
       "\n",
       "       medical_help  medical_products  search_and_rescue      security  \\\n",
       "count  26216.000000      26216.000000       26216.000000  26216.000000   \n",
       "mean       0.079493          0.050084           0.027617      0.017966   \n",
       "std        0.270513          0.218122           0.163875      0.132831   \n",
       "min        0.000000          0.000000           0.000000      0.000000   \n",
       "25%        0.000000          0.000000           0.000000      0.000000   \n",
       "50%        0.000000          0.000000           0.000000      0.000000   \n",
       "75%        0.000000          0.000000           0.000000      0.000000   \n",
       "max        1.000000          1.000000           1.000000      1.000000   \n",
       "\n",
       "           military  ...   aid_centers  other_infrastructure  weather_related  \\\n",
       "count  26216.000000  ...  26216.000000          26216.000000     26216.000000   \n",
       "mean       0.032804  ...      0.011787              0.043904         0.278341   \n",
       "std        0.178128  ...      0.107927              0.204887         0.448191   \n",
       "min        0.000000  ...      0.000000              0.000000         0.000000   \n",
       "25%        0.000000  ...      0.000000              0.000000         0.000000   \n",
       "50%        0.000000  ...      0.000000              0.000000         0.000000   \n",
       "75%        0.000000  ...      0.000000              0.000000         1.000000   \n",
       "max        1.000000  ...      1.000000              1.000000         1.000000   \n",
       "\n",
       "             floods         storm          fire    earthquake          cold  \\\n",
       "count  26216.000000  26216.000000  26216.000000  26216.000000  26216.000000   \n",
       "mean       0.082202      0.093187      0.010757      0.093645      0.020217   \n",
       "std        0.274677      0.290700      0.103158      0.291340      0.140743   \n",
       "min        0.000000      0.000000      0.000000      0.000000      0.000000   \n",
       "25%        0.000000      0.000000      0.000000      0.000000      0.000000   \n",
       "50%        0.000000      0.000000      0.000000      0.000000      0.000000   \n",
       "75%        0.000000      0.000000      0.000000      0.000000      0.000000   \n",
       "max        1.000000      1.000000      1.000000      1.000000      1.000000   \n",
       "\n",
       "       other_weather  direct_report  \n",
       "count   26216.000000   26216.000000  \n",
       "mean        0.052487       0.193584  \n",
       "std         0.223011       0.395114  \n",
       "min         0.000000       0.000000  \n",
       "25%         0.000000       0.000000  \n",
       "50%         0.000000       0.000000  \n",
       "75%         0.000000       0.000000  \n",
       "max         1.000000       1.000000  \n",
       "\n",
       "[8 rows x 37 columns]"
      ]
     },
     "execution_count": 56,
     "metadata": {},
     "output_type": "execute_result"
    }
   ],
   "source": [
    "# A quick look of the data\n",
    "df.describe()"
   ]
  },
  {
   "cell_type": "code",
   "execution_count": 57,
   "metadata": {},
   "outputs": [
    {
     "name": "stdout",
     "output_type": "stream",
     "text": [
      "Summary of the basic information about this dataFrame and its data:\n",
      "<class 'pandas.core.frame.DataFrame'>\n",
      "RangeIndex: 26216 entries, 0 to 26215\n",
      "Data columns (total 40 columns):\n",
      " #   Column                  Non-Null Count  Dtype \n",
      "---  ------                  --------------  ----- \n",
      " 0   id                      26216 non-null  int64 \n",
      " 1   message                 26216 non-null  object\n",
      " 2   original                10170 non-null  object\n",
      " 3   genre                   26216 non-null  object\n",
      " 4   related                 26216 non-null  int64 \n",
      " 5   request                 26216 non-null  int64 \n",
      " 6   offer                   26216 non-null  int64 \n",
      " 7   aid_related             26216 non-null  int64 \n",
      " 8   medical_help            26216 non-null  int64 \n",
      " 9   medical_products        26216 non-null  int64 \n",
      " 10  search_and_rescue       26216 non-null  int64 \n",
      " 11  security                26216 non-null  int64 \n",
      " 12  military                26216 non-null  int64 \n",
      " 13  child_alone             26216 non-null  int64 \n",
      " 14  water                   26216 non-null  int64 \n",
      " 15  food                    26216 non-null  int64 \n",
      " 16  shelter                 26216 non-null  int64 \n",
      " 17  clothing                26216 non-null  int64 \n",
      " 18  money                   26216 non-null  int64 \n",
      " 19  missing_people          26216 non-null  int64 \n",
      " 20  refugees                26216 non-null  int64 \n",
      " 21  death                   26216 non-null  int64 \n",
      " 22  other_aid               26216 non-null  int64 \n",
      " 23  infrastructure_related  26216 non-null  int64 \n",
      " 24  transport               26216 non-null  int64 \n",
      " 25  buildings               26216 non-null  int64 \n",
      " 26  electricity             26216 non-null  int64 \n",
      " 27  tools                   26216 non-null  int64 \n",
      " 28  hospitals               26216 non-null  int64 \n",
      " 29  shops                   26216 non-null  int64 \n",
      " 30  aid_centers             26216 non-null  int64 \n",
      " 31  other_infrastructure    26216 non-null  int64 \n",
      " 32  weather_related         26216 non-null  int64 \n",
      " 33  floods                  26216 non-null  int64 \n",
      " 34  storm                   26216 non-null  int64 \n",
      " 35  fire                    26216 non-null  int64 \n",
      " 36  earthquake              26216 non-null  int64 \n",
      " 37  cold                    26216 non-null  int64 \n",
      " 38  other_weather           26216 non-null  int64 \n",
      " 39  direct_report           26216 non-null  int64 \n",
      "dtypes: int64(37), object(3)\n",
      "memory usage: 8.0+ MB\n",
      "None\n"
     ]
    }
   ],
   "source": [
    "print(\"Summary of the basic information about this dataFrame and its data:\")\n",
    "print(df.info())"
   ]
  },
  {
   "cell_type": "code",
   "execution_count": 58,
   "metadata": {},
   "outputs": [
    {
     "name": "stdout",
     "output_type": "stream",
     "text": [
      "Columns names of the dataframe:\n"
     ]
    },
    {
     "data": {
      "text/plain": [
       "Index(['id', 'message', 'original', 'genre', 'related', 'request', 'offer',\n",
       "       'aid_related', 'medical_help', 'medical_products', 'search_and_rescue',\n",
       "       'security', 'military', 'child_alone', 'water', 'food', 'shelter',\n",
       "       'clothing', 'money', 'missing_people', 'refugees', 'death', 'other_aid',\n",
       "       'infrastructure_related', 'transport', 'buildings', 'electricity',\n",
       "       'tools', 'hospitals', 'shops', 'aid_centers', 'other_infrastructure',\n",
       "       'weather_related', 'floods', 'storm', 'fire', 'earthquake', 'cold',\n",
       "       'other_weather', 'direct_report'],\n",
       "      dtype='object')"
      ]
     },
     "execution_count": 58,
     "metadata": {},
     "output_type": "execute_result"
    }
   ],
   "source": [
    "print(\"Columns names of the dataframe:\")\n",
    "df.columns"
   ]
  },
  {
   "cell_type": "code",
   "execution_count": 59,
   "metadata": {},
   "outputs": [],
   "source": [
    "# Dropping 'child_alone' column\n",
    "df = df.drop(['child_alone'],axis=1)"
   ]
  },
  {
   "cell_type": "code",
   "execution_count": 60,
   "metadata": {},
   "outputs": [],
   "source": [
    "df[\"related\"].replace({2: 0}, inplace=True)"
   ]
  },
  {
   "cell_type": "code",
   "execution_count": 61,
   "metadata": {},
   "outputs": [],
   "source": [
    "# Selecting variables\n",
    "X = df['message']\n",
    "y = df.drop(['id', 'message', 'original', 'genre'], axis=1)"
   ]
  },
  {
   "cell_type": "code",
   "execution_count": 62,
   "metadata": {},
   "outputs": [
    {
     "name": "stdout",
     "output_type": "stream",
     "text": [
      "X shape:\n"
     ]
    },
    {
     "data": {
      "text/plain": [
       "(26216,)"
      ]
     },
     "execution_count": 62,
     "metadata": {},
     "output_type": "execute_result"
    }
   ],
   "source": [
    "print(\"X shape:\")\n",
    "X.shape"
   ]
  },
  {
   "cell_type": "code",
   "execution_count": 63,
   "metadata": {},
   "outputs": [
    {
     "name": "stdout",
     "output_type": "stream",
     "text": [
      "y shape:\n"
     ]
    },
    {
     "data": {
      "text/plain": [
       "(26216, 35)"
      ]
     },
     "execution_count": 63,
     "metadata": {},
     "output_type": "execute_result"
    }
   ],
   "source": [
    "print(\"y shape:\")\n",
    "y.shape"
   ]
  },
  {
   "cell_type": "markdown",
   "metadata": {},
   "source": [
    "### 2. Write a tokenization function to process your text data"
   ]
  },
  {
   "cell_type": "code",
   "execution_count": 64,
   "metadata": {},
   "outputs": [],
   "source": [
    "def tokenize(text, urlplaceholder=\"urlplaceholder\"):\n",
    "    \"\"\"\n",
    "    Function: split text into words and return the root form of the words\n",
    "    Inputs:\n",
    "      text: text messages\n",
    "    Outputs:\n",
    "      root_words: a list of the root form of the message words\n",
    "    \"\"\"\n",
    "    # 1. Replace all urls with a url place holder string\n",
    "    url_rgx = 'http[s]?://(?:[a-zA-Z]|[0-9]|[$-_@.&+]|[!*\\(\\),]|(?:%[0-9a-fA-F][0-9a-fA-F]))+'\n",
    "    \n",
    "    # 2. Extract all the urls from text \n",
    "    urls = re.findall(url_rgx, text)\n",
    "    \n",
    "    # 3. Replace url with a url placeholder string\n",
    "    for url in urls:\n",
    "        text = text.replace(url, urlplaceholder)\n",
    "\n",
    "    # 4. Tokenize text\n",
    "    tokens = nltk.word_tokenize(text)\n",
    "    \n",
    "    # 5. Lemmatization\n",
    "    lemmat = nltk.WordNetLemmatizer()\n",
    "\n",
    "    # 6. List of clean tokens\n",
    "    root_words = [lemmat.lemmatize(w).lower().strip() for w in tokens]\n",
    "    return root_words"
   ]
  },
  {
   "cell_type": "markdown",
   "metadata": {},
   "source": [
    "### 3. Build a machine learning pipeline\n",
    "This machine pipeline should take in the `message` column as input and output classification results on the other 36 categories in the dataset. You may find the [MultiOutputClassifier](http://scikit-learn.org/stable/modules/generated/sklearn.multioutput.MultiOutputClassifier.html) helpful for predicting multiple target variables."
   ]
  },
  {
   "cell_type": "code",
   "execution_count": 65,
   "metadata": {},
   "outputs": [],
   "source": [
    "# Pipeline 1: Adaboost Classifier \n",
    "pipeline_ada = Pipeline([\n",
    "        ('features', FeatureUnion([\n",
    "        ('text_pipeline', Pipeline([\n",
    "        ('count_vectorizer', CountVectorizer(tokenizer=tokenize)),\n",
    "        ('tfidf_transformer', TfidfTransformer())]))\n",
    "        ])),\n",
    "        ('classifier', MultiOutputClassifier(AdaBoostClassifier()))])"
   ]
  },
  {
   "cell_type": "markdown",
   "metadata": {},
   "source": [
    "### 4. Train pipeline\n",
    "- Split data into train and test sets\n",
    "- Train pipeline"
   ]
  },
  {
   "cell_type": "code",
   "execution_count": 66,
   "metadata": {},
   "outputs": [],
   "source": [
    "X_train, X_test, y_train, y_test = train_test_split(X, y)"
   ]
  },
  {
   "cell_type": "code",
   "execution_count": 67,
   "metadata": {},
   "outputs": [],
   "source": [
    "pipeline_ada_fit = pipeline_ada.fit(X_train, y_train)"
   ]
  },
  {
   "cell_type": "markdown",
   "metadata": {},
   "source": [
    "### 5. Test your model\n",
    "Report the f1 score, precision and recall for each output category of the dataset. You can do this by iterating through the columns and calling sklearn's `classification_report` on each."
   ]
  },
  {
   "cell_type": "code",
   "execution_count": 68,
   "metadata": {},
   "outputs": [],
   "source": [
    "y_pred_train = pipeline_ada_fit.predict(X_train)\n",
    "y_pred_test  = pipeline_ada_fit.predict(X_test)"
   ]
  },
  {
   "cell_type": "code",
   "execution_count": 69,
   "metadata": {},
   "outputs": [
    {
     "name": "stdout",
     "output_type": "stream",
     "text": [
      "\n",
      "                         precision    recall  f1-score   support\n",
      "\n",
      "               related       0.84      0.93      0.88     14942\n",
      "               request       0.79      0.54      0.64      3361\n",
      "                 offer       0.41      0.12      0.19        90\n",
      "           aid_related       0.77      0.61      0.68      8196\n",
      "          medical_help       0.65      0.29      0.40      1575\n",
      "      medical_products       0.72      0.35      0.47      1008\n",
      "     search_and_rescue       0.68      0.23      0.34       537\n",
      "              security       0.48      0.09      0.15       346\n",
      "              military       0.68      0.37      0.48       632\n",
      "                 water       0.76      0.64      0.70      1264\n",
      "                  food       0.81      0.71      0.76      2200\n",
      "               shelter       0.81      0.56      0.66      1751\n",
      "              clothing       0.78      0.49      0.60       310\n",
      "                 money       0.69      0.34      0.46       461\n",
      "        missing_people       0.70      0.23      0.34       206\n",
      "              refugees       0.63      0.26      0.37       677\n",
      "                 death       0.77      0.50      0.60       894\n",
      "             other_aid       0.56      0.18      0.27      2611\n",
      "infrastructure_related       0.54      0.11      0.18      1313\n",
      "             transport       0.77      0.23      0.36       908\n",
      "             buildings       0.69      0.41      0.51      1015\n",
      "           electricity       0.68      0.30      0.42       418\n",
      "                 tools       0.37      0.06      0.10       126\n",
      "             hospitals       0.52      0.14      0.22       211\n",
      "                 shops       0.64      0.07      0.13        94\n",
      "           aid_centers       0.55      0.15      0.23       246\n",
      "  other_infrastructure       0.44      0.10      0.17       884\n",
      "       weather_related       0.86      0.66      0.75      5522\n",
      "                floods       0.87      0.58      0.70      1621\n",
      "                 storm       0.79      0.52      0.63      1838\n",
      "                  fire       0.76      0.27      0.39       214\n",
      "            earthquake       0.89      0.79      0.84      1874\n",
      "                  cold       0.73      0.36      0.48       398\n",
      "         other_weather       0.56      0.18      0.28      1065\n",
      "         direct_report       0.75      0.49      0.59      3847\n",
      "\n",
      "             micro avg       0.80      0.59      0.68     62655\n",
      "             macro avg       0.68      0.37      0.46     62655\n",
      "          weighted avg       0.77      0.59      0.65     62655\n",
      "           samples avg       0.64      0.50      0.52     62655\n",
      "\n"
     ]
    },
    {
     "name": "stderr",
     "output_type": "stream",
     "text": [
      "C:\\Users\\FELIPE\\anaconda3\\lib\\site-packages\\sklearn\\metrics\\_classification.py:1248: UndefinedMetricWarning: Precision and F-score are ill-defined and being set to 0.0 in samples with no predicted labels. Use `zero_division` parameter to control this behavior.\n",
      "  _warn_prf(average, modifier, msg_start, len(result))\n",
      "C:\\Users\\FELIPE\\anaconda3\\lib\\site-packages\\sklearn\\metrics\\_classification.py:1248: UndefinedMetricWarning: Recall and F-score are ill-defined and being set to 0.0 in samples with no true labels. Use `zero_division` parameter to control this behavior.\n",
      "  _warn_prf(average, modifier, msg_start, len(result))\n"
     ]
    }
   ],
   "source": [
    "# training data\n",
    "print('\\n',classification_report(y_train.values, y_pred_train, target_names=y.columns.values))"
   ]
  },
  {
   "cell_type": "code",
   "execution_count": 70,
   "metadata": {},
   "outputs": [
    {
     "name": "stdout",
     "output_type": "stream",
     "text": [
      "                        precision    recall  f1-score   support\n",
      "\n",
      "               related       0.83      0.93      0.88      4964\n",
      "               request       0.80      0.55      0.65      1113\n",
      "                 offer       0.00      0.00      0.00        28\n",
      "           aid_related       0.76      0.58      0.66      2664\n",
      "          medical_help       0.61      0.28      0.38       509\n",
      "      medical_products       0.62      0.35      0.44       305\n",
      "     search_and_rescue       0.66      0.19      0.29       187\n",
      "              security       0.35      0.07      0.12       125\n",
      "              military       0.63      0.32      0.42       228\n",
      "                 water       0.74      0.68      0.71       408\n",
      "                  food       0.81      0.72      0.76       723\n",
      "               shelter       0.75      0.56      0.65       563\n",
      "              clothing       0.65      0.44      0.53        95\n",
      "                 money       0.55      0.29      0.38       143\n",
      "        missing_people       0.55      0.13      0.21        92\n",
      "              refugees       0.60      0.25      0.36       198\n",
      "                 death       0.66      0.41      0.51       300\n",
      "             other_aid       0.53      0.16      0.24       835\n",
      "infrastructure_related       0.38      0.10      0.15       392\n",
      "             transport       0.66      0.18      0.28       293\n",
      "             buildings       0.72      0.37      0.49       318\n",
      "           electricity       0.51      0.32      0.39       114\n",
      "                 tools       0.14      0.03      0.05        33\n",
      "             hospitals       0.23      0.10      0.14        72\n",
      "                 shops       0.00      0.00      0.00        26\n",
      "           aid_centers       0.08      0.02      0.03        63\n",
      "  other_infrastructure       0.34      0.07      0.12       267\n",
      "       weather_related       0.84      0.65      0.73      1775\n",
      "                floods       0.83      0.56      0.67       534\n",
      "                 storm       0.75      0.49      0.60       605\n",
      "                  fire       0.50      0.19      0.28        68\n",
      "            earthquake       0.86      0.75      0.80       581\n",
      "                  cold       0.68      0.32      0.43       132\n",
      "         other_weather       0.51      0.18      0.26       311\n",
      "         direct_report       0.71      0.49      0.58      1228\n",
      "\n",
      "             micro avg       0.77      0.58      0.66     20292\n",
      "             macro avg       0.57      0.33      0.40     20292\n",
      "          weighted avg       0.73      0.58      0.63     20292\n",
      "           samples avg       0.62      0.50      0.51     20292\n",
      "\n"
     ]
    },
    {
     "name": "stderr",
     "output_type": "stream",
     "text": [
      "C:\\Users\\FELIPE\\anaconda3\\lib\\site-packages\\sklearn\\metrics\\_classification.py:1248: UndefinedMetricWarning: Precision and F-score are ill-defined and being set to 0.0 in samples with no predicted labels. Use `zero_division` parameter to control this behavior.\n",
      "  _warn_prf(average, modifier, msg_start, len(result))\n",
      "C:\\Users\\FELIPE\\anaconda3\\lib\\site-packages\\sklearn\\metrics\\_classification.py:1248: UndefinedMetricWarning: Recall and F-score are ill-defined and being set to 0.0 in samples with no true labels. Use `zero_division` parameter to control this behavior.\n",
      "  _warn_prf(average, modifier, msg_start, len(result))\n"
     ]
    }
   ],
   "source": [
    "# test data\n",
    "print(classification_report(y_test.values, y_pred_test, target_names=y.columns.values))"
   ]
  },
  {
   "cell_type": "markdown",
   "metadata": {},
   "source": [
    "### 6. Improve your model\n",
    "Use grid search to find better parameters. "
   ]
  },
  {
   "cell_type": "code",
   "execution_count": 71,
   "metadata": {},
   "outputs": [
    {
     "name": "stdout",
     "output_type": "stream",
     "text": [
      "Parameters of the AdaBoostClassifier Pipeline\n"
     ]
    },
    {
     "data": {
      "text/plain": [
       "dict_keys(['memory', 'steps', 'verbose', 'features', 'classifier', 'features__n_jobs', 'features__transformer_list', 'features__transformer_weights', 'features__verbose', 'features__text_pipeline', 'features__text_pipeline__memory', 'features__text_pipeline__steps', 'features__text_pipeline__verbose', 'features__text_pipeline__count_vectorizer', 'features__text_pipeline__tfidf_transformer', 'features__text_pipeline__count_vectorizer__analyzer', 'features__text_pipeline__count_vectorizer__binary', 'features__text_pipeline__count_vectorizer__decode_error', 'features__text_pipeline__count_vectorizer__dtype', 'features__text_pipeline__count_vectorizer__encoding', 'features__text_pipeline__count_vectorizer__input', 'features__text_pipeline__count_vectorizer__lowercase', 'features__text_pipeline__count_vectorizer__max_df', 'features__text_pipeline__count_vectorizer__max_features', 'features__text_pipeline__count_vectorizer__min_df', 'features__text_pipeline__count_vectorizer__ngram_range', 'features__text_pipeline__count_vectorizer__preprocessor', 'features__text_pipeline__count_vectorizer__stop_words', 'features__text_pipeline__count_vectorizer__strip_accents', 'features__text_pipeline__count_vectorizer__token_pattern', 'features__text_pipeline__count_vectorizer__tokenizer', 'features__text_pipeline__count_vectorizer__vocabulary', 'features__text_pipeline__tfidf_transformer__norm', 'features__text_pipeline__tfidf_transformer__smooth_idf', 'features__text_pipeline__tfidf_transformer__sublinear_tf', 'features__text_pipeline__tfidf_transformer__use_idf', 'classifier__estimator__algorithm', 'classifier__estimator__base_estimator', 'classifier__estimator__learning_rate', 'classifier__estimator__n_estimators', 'classifier__estimator__random_state', 'classifier__estimator', 'classifier__n_jobs'])"
      ]
     },
     "execution_count": 71,
     "metadata": {},
     "output_type": "execute_result"
    }
   ],
   "source": [
    "print(\"Parameters of the AdaBoostClassifier Pipeline\")\n",
    "pipeline_ada.get_params().keys()"
   ]
  },
  {
   "cell_type": "code",
   "execution_count": 72,
   "metadata": {},
   "outputs": [],
   "source": [
    "param_ada = {'classifier__estimator__learning_rate': [0.01, 0.03, 0.05],\n",
    "             'classifier__estimator__n_estimators': [10, 30, 50]}\n",
    "\n",
    "cv_ada = GridSearchCV(pipeline_ada, param_grid=param_ada, scoring='f1_micro', n_jobs=-1)"
   ]
  },
  {
   "cell_type": "code",
   "execution_count": 73,
   "metadata": {},
   "outputs": [
    {
     "data": {
      "text/plain": [
       "GridSearchCV(estimator=Pipeline(steps=[('features',\n",
       "                                        FeatureUnion(transformer_list=[('text_pipeline',\n",
       "                                                                        Pipeline(steps=[('count_vectorizer',\n",
       "                                                                                         CountVectorizer(tokenizer=<function tokenize at 0x000002BDE90DA310>)),\n",
       "                                                                                        ('tfidf_transformer',\n",
       "                                                                                         TfidfTransformer())]))])),\n",
       "                                       ('classifier',\n",
       "                                        MultiOutputClassifier(estimator=AdaBoostClassifier()))]),\n",
       "             n_jobs=-1,\n",
       "             param_grid={'classifier__estimator__learning_rate': [0.01, 0.03,\n",
       "                                                                  0.05],\n",
       "                         'classifier__estimator__n_estimators': [10, 30, 50]},\n",
       "             scoring='f1_micro')"
      ]
     },
     "execution_count": 73,
     "metadata": {},
     "output_type": "execute_result"
    }
   ],
   "source": [
    "cv_ada.fit(X_train, y_train)"
   ]
  },
  {
   "cell_type": "code",
   "execution_count": 74,
   "metadata": {},
   "outputs": [],
   "source": [
    "y_pred_test  = cv_ada.predict(X_test)\n",
    "y_pred_train = cv_ada.predict(X_train)"
   ]
  },
  {
   "cell_type": "markdown",
   "metadata": {},
   "source": [
    "### 7. Test your model\n",
    "Show the accuracy, precision, and recall of the tuned model.  \n",
    "\n",
    "Since this project focuses on code quality, process, and  pipelines, there is no minimum performance metric needed to pass. However, make sure to fine tune your models for accuracy, precision and recall to make your project stand out - especially for your portfolio!"
   ]
  },
  {
   "cell_type": "code",
   "execution_count": 75,
   "metadata": {},
   "outputs": [
    {
     "name": "stdout",
     "output_type": "stream",
     "text": [
      "\n",
      "                         precision    recall  f1-score   support\n",
      "\n",
      "               related       0.76      1.00      0.86     14942\n",
      "               request       0.61      0.38      0.47      3361\n",
      "                 offer       1.00      0.02      0.04        90\n",
      "           aid_related       0.80      0.19      0.30      8196\n",
      "          medical_help       0.64      0.12      0.20      1575\n",
      "      medical_products       0.76      0.12      0.21      1008\n",
      "     search_and_rescue       0.64      0.20      0.31       537\n",
      "              security       0.00      0.00      0.00       346\n",
      "              military       0.54      0.14      0.23       632\n",
      "                 water       0.59      0.84      0.69      1264\n",
      "                  food       0.77      0.67      0.72      2200\n",
      "               shelter       0.84      0.28      0.42      1751\n",
      "              clothing       0.75      0.33      0.46       310\n",
      "                 money       1.00      0.01      0.02       461\n",
      "        missing_people       0.67      0.26      0.37       206\n",
      "              refugees       0.75      0.01      0.03       677\n",
      "                 death       0.79      0.02      0.03       894\n",
      "             other_aid       0.00      0.00      0.00      2611\n",
      "infrastructure_related       0.00      0.00      0.00      1313\n",
      "             transport       0.57      0.26      0.36       908\n",
      "             buildings       0.00      0.00      0.00      1015\n",
      "           electricity       0.00      0.00      0.00       418\n",
      "                 tools       0.00      0.00      0.00       126\n",
      "             hospitals       0.00      0.00      0.00       211\n",
      "                 shops       1.00      0.04      0.08        94\n",
      "           aid_centers       0.00      0.00      0.00       246\n",
      "  other_infrastructure       0.00      0.00      0.00       884\n",
      "       weather_related       0.92      0.23      0.36      5522\n",
      "                floods       0.92      0.35      0.51      1621\n",
      "                 storm       0.73      0.26      0.38      1838\n",
      "                  fire       0.53      0.39      0.45       214\n",
      "            earthquake       0.90      0.66      0.76      1874\n",
      "                  cold       0.70      0.21      0.32       398\n",
      "         other_weather       0.57      0.12      0.19      1065\n",
      "         direct_report       0.63      0.38      0.48      3847\n",
      "\n",
      "             micro avg       0.74      0.43      0.55     62655\n",
      "             macro avg       0.55      0.21      0.26     62655\n",
      "          weighted avg       0.67      0.43      0.46     62655\n",
      "           samples avg       0.70      0.44      0.48     62655\n",
      "\n"
     ]
    },
    {
     "name": "stderr",
     "output_type": "stream",
     "text": [
      "C:\\Users\\FELIPE\\anaconda3\\lib\\site-packages\\sklearn\\metrics\\_classification.py:1248: UndefinedMetricWarning: Precision and F-score are ill-defined and being set to 0.0 in labels with no predicted samples. Use `zero_division` parameter to control this behavior.\n",
      "  _warn_prf(average, modifier, msg_start, len(result))\n",
      "C:\\Users\\FELIPE\\anaconda3\\lib\\site-packages\\sklearn\\metrics\\_classification.py:1248: UndefinedMetricWarning: Recall and F-score are ill-defined and being set to 0.0 in samples with no true labels. Use `zero_division` parameter to control this behavior.\n",
      "  _warn_prf(average, modifier, msg_start, len(result))\n"
     ]
    }
   ],
   "source": [
    "# training data\n",
    "print('\\n',classification_report(y_train.values, y_pred_train, target_names=y.columns.values))"
   ]
  },
  {
   "cell_type": "code",
   "execution_count": 76,
   "metadata": {},
   "outputs": [
    {
     "name": "stderr",
     "output_type": "stream",
     "text": [
      "C:\\Users\\FELIPE\\anaconda3\\lib\\site-packages\\sklearn\\metrics\\_classification.py:1248: UndefinedMetricWarning: Precision and F-score are ill-defined and being set to 0.0 in labels with no predicted samples. Use `zero_division` parameter to control this behavior.\n",
      "  _warn_prf(average, modifier, msg_start, len(result))\n",
      "C:\\Users\\FELIPE\\anaconda3\\lib\\site-packages\\sklearn\\metrics\\_classification.py:1248: UndefinedMetricWarning: Recall and F-score are ill-defined and being set to 0.0 in samples with no true labels. Use `zero_division` parameter to control this behavior.\n",
      "  _warn_prf(average, modifier, msg_start, len(result))\n"
     ]
    },
    {
     "name": "stdout",
     "output_type": "stream",
     "text": [
      "                        precision    recall  f1-score   support\n",
      "\n",
      "               related       0.76      1.00      0.86      4964\n",
      "               request       0.62      0.39      0.48      1113\n",
      "                 offer       0.00      0.00      0.00        28\n",
      "           aid_related       0.80      0.20      0.31      2664\n",
      "          medical_help       0.61      0.11      0.18       509\n",
      "      medical_products       0.64      0.14      0.23       305\n",
      "     search_and_rescue       0.57      0.17      0.26       187\n",
      "              security       0.00      0.00      0.00       125\n",
      "              military       0.44      0.12      0.19       228\n",
      "                 water       0.56      0.86      0.67       408\n",
      "                  food       0.78      0.70      0.74       723\n",
      "               shelter       0.85      0.34      0.48       563\n",
      "              clothing       0.72      0.27      0.40        95\n",
      "                 money       0.00      0.00      0.00       143\n",
      "        missing_people       0.72      0.23      0.35        92\n",
      "              refugees       0.67      0.02      0.04       198\n",
      "                 death       0.75      0.01      0.02       300\n",
      "             other_aid       0.00      0.00      0.00       835\n",
      "infrastructure_related       0.00      0.00      0.00       392\n",
      "             transport       0.61      0.22      0.32       293\n",
      "             buildings       0.00      0.00      0.00       318\n",
      "           electricity       0.00      0.00      0.00       114\n",
      "                 tools       0.00      0.00      0.00        33\n",
      "             hospitals       0.00      0.00      0.00        72\n",
      "                 shops       0.00      0.00      0.00        26\n",
      "           aid_centers       0.00      0.00      0.00        63\n",
      "  other_infrastructure       0.00      0.00      0.00       267\n",
      "       weather_related       0.90      0.21      0.34      1775\n",
      "                floods       0.90      0.30      0.45       534\n",
      "                 storm       0.74      0.26      0.39       605\n",
      "                  fire       0.48      0.44      0.46        68\n",
      "            earthquake       0.87      0.62      0.72       581\n",
      "                  cold       0.67      0.23      0.34       132\n",
      "         other_weather       0.59      0.14      0.23       311\n",
      "         direct_report       0.65      0.40      0.50      1228\n",
      "\n",
      "             micro avg       0.74      0.44      0.55     20292\n",
      "             macro avg       0.45      0.21      0.26     20292\n",
      "          weighted avg       0.66      0.44      0.46     20292\n",
      "           samples avg       0.70      0.44      0.48     20292\n",
      "\n"
     ]
    }
   ],
   "source": [
    "# test data\n",
    "print(classification_report(y_test.values, y_pred_test, target_names=y.columns.values))"
   ]
  },
  {
   "cell_type": "markdown",
   "metadata": {},
   "source": [
    "### 8. Try improving your model further. Here are a few ideas:\n",
    "* try other machine learning algorithms\n",
    "* add other features besides the TF-IDF"
   ]
  },
  {
   "cell_type": "code",
   "execution_count": 79,
   "metadata": {},
   "outputs": [],
   "source": [
    "# Pipeline 2: Naive Bayes classifier\n",
    "pipeline_nbc = Pipeline([\n",
    "        ('features', FeatureUnion([\n",
    "        ('text_pipeline', Pipeline([\n",
    "        ('count_vectorizer', CountVectorizer(tokenizer=tokenize)),\n",
    "        ('tfidf_transformer', TfidfTransformer())]))\n",
    "        ])),\n",
    "        ('classifier', MultiOutputClassifier(MultinomialNB()))])"
   ]
  },
  {
   "cell_type": "code",
   "execution_count": 80,
   "metadata": {},
   "outputs": [],
   "source": [
    "X_train, X_test, y_train, y_test = train_test_split(X, y)"
   ]
  },
  {
   "cell_type": "code",
   "execution_count": 81,
   "metadata": {},
   "outputs": [],
   "source": [
    "pipeline_nbc_fit = pipeline_nbc.fit(X_train, y_train)"
   ]
  },
  {
   "cell_type": "code",
   "execution_count": 82,
   "metadata": {},
   "outputs": [],
   "source": [
    "y_pred_train_nbc = pipeline_nbc_fit.predict(X_train)\n",
    "y_pred_test_nbc  = pipeline_nbc_fit.predict(X_test)"
   ]
  },
  {
   "cell_type": "code",
   "execution_count": 83,
   "metadata": {},
   "outputs": [
    {
     "name": "stdout",
     "output_type": "stream",
     "text": [
      "\n",
      "                         precision    recall  f1-score   support\n",
      "\n",
      "               related       0.78      1.00      0.88     15011\n",
      "               request       0.93      0.22      0.35      3401\n",
      "                 offer       0.00      0.00      0.00        94\n",
      "           aid_related       0.86      0.72      0.78      8251\n",
      "          medical_help       0.10      0.00      0.00      1604\n",
      "      medical_products       0.27      0.00      0.01      1015\n",
      "     search_and_rescue       0.00      0.00      0.00       542\n",
      "              security       0.00      0.00      0.00       365\n",
      "              military       0.00      0.00      0.00       667\n",
      "                 water       0.00      0.00      0.00      1271\n",
      "                  food       0.68      0.02      0.04      2204\n",
      "               shelter       0.17      0.00      0.00      1751\n",
      "              clothing       0.00      0.00      0.00       307\n",
      "                 money       0.00      0.00      0.00       461\n",
      "        missing_people       0.00      0.00      0.00       240\n",
      "              refugees       0.00      0.00      0.00       680\n",
      "                 death       0.00      0.00      0.00       908\n",
      "             other_aid       0.19      0.00      0.00      2606\n",
      "infrastructure_related       0.00      0.00      0.00      1272\n",
      "             transport       0.00      0.00      0.00       925\n",
      "             buildings       0.00      0.00      0.00      1000\n",
      "           electricity       0.00      0.00      0.00       406\n",
      "                 tools       0.00      0.00      0.00       126\n",
      "             hospitals       0.00      0.00      0.00       202\n",
      "                 shops       0.00      0.00      0.00        85\n",
      "           aid_centers       0.00      0.00      0.00       228\n",
      "  other_infrastructure       0.00      0.00      0.00       884\n",
      "       weather_related       0.93      0.44      0.60      5484\n",
      "                floods       0.48      0.01      0.01      1613\n",
      "                 storm       0.81      0.02      0.04      1833\n",
      "                  fire       0.00      0.00      0.00       206\n",
      "            earthquake       0.90      0.13      0.23      1845\n",
      "                  cold       0.00      0.00      0.00       390\n",
      "         other_weather       0.00      0.00      0.00      1033\n",
      "         direct_report       0.91      0.19      0.32      3846\n",
      "\n",
      "             micro avg       0.82      0.40      0.54     62756\n",
      "             macro avg       0.23      0.08      0.09     62756\n",
      "          weighted avg       0.59      0.40      0.41     62756\n",
      "           samples avg       0.74      0.42      0.49     62756\n",
      "\n"
     ]
    },
    {
     "name": "stderr",
     "output_type": "stream",
     "text": [
      "C:\\Users\\FELIPE\\anaconda3\\lib\\site-packages\\sklearn\\metrics\\_classification.py:1248: UndefinedMetricWarning: Precision and F-score are ill-defined and being set to 0.0 in labels with no predicted samples. Use `zero_division` parameter to control this behavior.\n",
      "  _warn_prf(average, modifier, msg_start, len(result))\n",
      "C:\\Users\\FELIPE\\anaconda3\\lib\\site-packages\\sklearn\\metrics\\_classification.py:1248: UndefinedMetricWarning: Precision and F-score are ill-defined and being set to 0.0 in samples with no predicted labels. Use `zero_division` parameter to control this behavior.\n",
      "  _warn_prf(average, modifier, msg_start, len(result))\n",
      "C:\\Users\\FELIPE\\anaconda3\\lib\\site-packages\\sklearn\\metrics\\_classification.py:1248: UndefinedMetricWarning: Recall and F-score are ill-defined and being set to 0.0 in samples with no true labels. Use `zero_division` parameter to control this behavior.\n",
      "  _warn_prf(average, modifier, msg_start, len(result))\n"
     ]
    }
   ],
   "source": [
    "# training data\n",
    "print('\\n',classification_report(y_train.values, y_pred_train_nbc, target_names=y.columns.values))"
   ]
  },
  {
   "cell_type": "code",
   "execution_count": 84,
   "metadata": {},
   "outputs": [
    {
     "name": "stdout",
     "output_type": "stream",
     "text": [
      "                        precision    recall  f1-score   support\n",
      "\n",
      "               related       0.76      1.00      0.86      4895\n",
      "               request       0.90      0.16      0.27      1073\n",
      "                 offer       0.00      0.00      0.00        24\n",
      "           aid_related       0.74      0.62      0.68      2609\n",
      "          medical_help       0.00      0.00      0.00       480\n",
      "      medical_products       0.00      0.00      0.00       298\n",
      "     search_and_rescue       0.00      0.00      0.00       182\n",
      "              security       0.00      0.00      0.00       106\n",
      "              military       0.00      0.00      0.00       193\n",
      "                 water       0.00      0.00      0.00       401\n",
      "                  food       0.83      0.01      0.01       719\n",
      "               shelter       0.00      0.00      0.00       563\n",
      "              clothing       0.00      0.00      0.00        98\n",
      "                 money       0.00      0.00      0.00       143\n",
      "        missing_people       0.00      0.00      0.00        58\n",
      "              refugees       0.00      0.00      0.00       195\n",
      "                 death       0.00      0.00      0.00       286\n",
      "             other_aid       0.00      0.00      0.00       840\n",
      "infrastructure_related       0.00      0.00      0.00       433\n",
      "             transport       0.00      0.00      0.00       276\n",
      "             buildings       0.00      0.00      0.00       333\n",
      "           electricity       0.00      0.00      0.00       126\n",
      "                 tools       0.00      0.00      0.00        33\n",
      "             hospitals       0.00      0.00      0.00        81\n",
      "                 shops       0.00      0.00      0.00        35\n",
      "           aid_centers       0.00      0.00      0.00        81\n",
      "  other_infrastructure       0.00      0.00      0.00       267\n",
      "       weather_related       0.87      0.33      0.48      1813\n",
      "                floods       0.00      0.00      0.00       542\n",
      "                 storm       0.33      0.00      0.00       610\n",
      "                  fire       0.00      0.00      0.00        76\n",
      "            earthquake       0.96      0.08      0.15       610\n",
      "                  cold       0.00      0.00      0.00       140\n",
      "         other_weather       0.00      0.00      0.00       343\n",
      "         direct_report       0.88      0.14      0.24      1229\n",
      "\n",
      "             micro avg       0.77      0.37      0.50     20191\n",
      "             macro avg       0.18      0.07      0.08     20191\n",
      "          weighted avg       0.53      0.37      0.37     20191\n",
      "           samples avg       0.71      0.40      0.46     20191\n",
      "\n"
     ]
    },
    {
     "name": "stderr",
     "output_type": "stream",
     "text": [
      "C:\\Users\\FELIPE\\anaconda3\\lib\\site-packages\\sklearn\\metrics\\_classification.py:1248: UndefinedMetricWarning: Precision and F-score are ill-defined and being set to 0.0 in labels with no predicted samples. Use `zero_division` parameter to control this behavior.\n",
      "  _warn_prf(average, modifier, msg_start, len(result))\n",
      "C:\\Users\\FELIPE\\anaconda3\\lib\\site-packages\\sklearn\\metrics\\_classification.py:1248: UndefinedMetricWarning: Precision and F-score are ill-defined and being set to 0.0 in samples with no predicted labels. Use `zero_division` parameter to control this behavior.\n",
      "  _warn_prf(average, modifier, msg_start, len(result))\n",
      "C:\\Users\\FELIPE\\anaconda3\\lib\\site-packages\\sklearn\\metrics\\_classification.py:1248: UndefinedMetricWarning: Recall and F-score are ill-defined and being set to 0.0 in samples with no true labels. Use `zero_division` parameter to control this behavior.\n",
      "  _warn_prf(average, modifier, msg_start, len(result))\n"
     ]
    }
   ],
   "source": [
    "# test data\n",
    "print(classification_report(y_test.values, y_pred_test_nbc, target_names=y.columns.values))"
   ]
  },
  {
   "cell_type": "markdown",
   "metadata": {},
   "source": [
    "### 9. Export your model as a pickle file"
   ]
  },
  {
   "cell_type": "code",
   "execution_count": 35,
   "metadata": {},
   "outputs": [],
   "source": [
    "m = pickle.dumps('classifier.pkl')"
   ]
  },
  {
   "cell_type": "markdown",
   "metadata": {},
   "source": [
    "### 10. Use this notebook to complete `train.py`\n",
    "Use the template file attached in the Resources folder to write a script that runs the steps above to create a database and export a model based on a new dataset specified by the user."
   ]
  },
  {
   "cell_type": "code",
   "execution_count": null,
   "metadata": {},
   "outputs": [],
   "source": []
  }
 ],
 "metadata": {
  "kernelspec": {
   "display_name": "Python 3",
   "language": "python",
   "name": "python3"
  },
  "language_info": {
   "codemirror_mode": {
    "name": "ipython",
    "version": 3
   },
   "file_extension": ".py",
   "mimetype": "text/x-python",
   "name": "python",
   "nbconvert_exporter": "python",
   "pygments_lexer": "ipython3",
   "version": "3.8.5"
  }
 },
 "nbformat": 4,
 "nbformat_minor": 4
}
