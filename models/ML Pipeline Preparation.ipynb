{
 "cells": [
  {
   "cell_type": "markdown",
   "metadata": {},
   "source": [
    "# ML Pipeline Preparation\n",
    "Follow the instructions below to help you create your ML pipeline.\n",
    "### 1. Import libraries and load data from database.\n",
    "- Import Python libraries\n",
    "- Load dataset from database with [`read_sql_table`](https://pandas.pydata.org/pandas-docs/stable/generated/pandas.read_sql_table.html)\n",
    "- Define feature and target variables X and Y"
   ]
  },
  {
   "cell_type": "code",
   "execution_count": 1,
   "metadata": {},
   "outputs": [
    {
     "name": "stderr",
     "output_type": "stream",
     "text": [
      "[nltk_data] Downloading package punkt to\n",
      "[nltk_data]     C:\\Users\\FELIPE\\AppData\\Roaming\\nltk_data...\n",
      "[nltk_data]   Package punkt is already up-to-date!\n",
      "[nltk_data] Downloading package wordnet to\n",
      "[nltk_data]     C:\\Users\\FELIPE\\AppData\\Roaming\\nltk_data...\n",
      "[nltk_data]   Package wordnet is already up-to-date!\n",
      "[nltk_data] Downloading package averaged_perceptron_tagger to\n",
      "[nltk_data]     C:\\Users\\FELIPE\\AppData\\Roaming\\nltk_data...\n",
      "[nltk_data]   Package averaged_perceptron_tagger is already up-to-\n",
      "[nltk_data]       date!\n"
     ]
    },
    {
     "data": {
      "text/plain": [
       "True"
      ]
     },
     "execution_count": 1,
     "metadata": {},
     "output_type": "execute_result"
    }
   ],
   "source": [
    "import nltk\n",
    "nltk.download('punkt')\n",
    "nltk.download('wordnet')\n",
    "nltk.download('averaged_perceptron_tagger')"
   ]
  },
  {
   "cell_type": "code",
   "execution_count": 2,
   "metadata": {},
   "outputs": [],
   "source": [
    "# import libraries\n",
    "import os\n",
    "import re\n",
    "import sys\n",
    "import pickle\n",
    "import datetime\n",
    "import warnings\n",
    "import numpy as np\n",
    "import pandas as pd\n",
    "import matplotlib.pyplot as plt\n",
    "from sqlalchemy import create_engine\n",
    "from scipy import stats\n",
    "\n",
    "from scipy.stats import gmean\n",
    "\n",
    "# import relevant functions/modules from the sklearn\n",
    "from nltk.corpus import stopwords \n",
    "from sklearn import preprocessing\n",
    "from sklearn.naive_bayes import MultinomialNB\n",
    "from sklearn.pipeline import Pipeline, FeatureUnion\n",
    "from sklearn.preprocessing import StandardScaler\n",
    "from sklearn.model_selection import GridSearchCV\n",
    "from sklearn.model_selection import RandomizedSearchCV\n",
    "from sklearn.metrics import classification_report\n",
    "from sklearn.metrics import confusion_matrix\n",
    "from sklearn.metrics import fbeta_score, make_scorer\n",
    "from sklearn.feature_extraction.text import TfidfTransformer, CountVectorizer\n",
    "from sklearn.multioutput import MultiOutputClassifier\n",
    "from sklearn.base import BaseEstimator,TransformerMixin\n",
    "from sklearn.model_selection import train_test_split\n",
    "from sklearn.ensemble import GradientBoostingClassifier, RandomForestClassifier, AdaBoostClassifier"
   ]
  },
  {
   "cell_type": "code",
   "execution_count": 3,
   "metadata": {},
   "outputs": [],
   "source": [
    "# load data from database\n",
    "database_filepath = \"../data/disaster_response_db.db\"\n",
    "engine = create_engine('sqlite:///' + database_filepath)\n",
    "table_name = os.path.basename(database_filepath).replace(\".db\",\"\") + \"_table\"\n",
    "df = pd.read_sql_table(table_name,engine)"
   ]
  },
  {
   "cell_type": "code",
   "execution_count": 4,
   "metadata": {},
   "outputs": [
    {
     "name": "stdout",
     "output_type": "stream",
     "text": [
      "the dataset has 26216 rows and 40 columns.\n"
     ]
    }
   ],
   "source": [
    "print('the dataset has', df.shape[0], 'rows and', df.shape[1], 'columns.')"
   ]
  },
  {
   "cell_type": "code",
   "execution_count": 5,
   "metadata": {},
   "outputs": [
    {
     "data": {
      "text/html": [
       "<div>\n",
       "<style scoped>\n",
       "    .dataframe tbody tr th:only-of-type {\n",
       "        vertical-align: middle;\n",
       "    }\n",
       "\n",
       "    .dataframe tbody tr th {\n",
       "        vertical-align: top;\n",
       "    }\n",
       "\n",
       "    .dataframe thead th {\n",
       "        text-align: right;\n",
       "    }\n",
       "</style>\n",
       "<table border=\"1\" class=\"dataframe\">\n",
       "  <thead>\n",
       "    <tr style=\"text-align: right;\">\n",
       "      <th></th>\n",
       "      <th>id</th>\n",
       "      <th>related</th>\n",
       "      <th>request</th>\n",
       "      <th>offer</th>\n",
       "      <th>aid_related</th>\n",
       "      <th>medical_help</th>\n",
       "      <th>medical_products</th>\n",
       "      <th>search_and_rescue</th>\n",
       "      <th>security</th>\n",
       "      <th>military</th>\n",
       "      <th>...</th>\n",
       "      <th>aid_centers</th>\n",
       "      <th>other_infrastructure</th>\n",
       "      <th>weather_related</th>\n",
       "      <th>floods</th>\n",
       "      <th>storm</th>\n",
       "      <th>fire</th>\n",
       "      <th>earthquake</th>\n",
       "      <th>cold</th>\n",
       "      <th>other_weather</th>\n",
       "      <th>direct_report</th>\n",
       "    </tr>\n",
       "  </thead>\n",
       "  <tbody>\n",
       "    <tr>\n",
       "      <th>count</th>\n",
       "      <td>26216.00000</td>\n",
       "      <td>26216.000000</td>\n",
       "      <td>26216.000000</td>\n",
       "      <td>26216.000000</td>\n",
       "      <td>26216.000000</td>\n",
       "      <td>26216.000000</td>\n",
       "      <td>26216.000000</td>\n",
       "      <td>26216.000000</td>\n",
       "      <td>26216.000000</td>\n",
       "      <td>26216.000000</td>\n",
       "      <td>...</td>\n",
       "      <td>26216.000000</td>\n",
       "      <td>26216.000000</td>\n",
       "      <td>26216.000000</td>\n",
       "      <td>26216.000000</td>\n",
       "      <td>26216.000000</td>\n",
       "      <td>26216.000000</td>\n",
       "      <td>26216.000000</td>\n",
       "      <td>26216.000000</td>\n",
       "      <td>26216.000000</td>\n",
       "      <td>26216.000000</td>\n",
       "    </tr>\n",
       "    <tr>\n",
       "      <th>mean</th>\n",
       "      <td>15224.82133</td>\n",
       "      <td>0.773650</td>\n",
       "      <td>0.170659</td>\n",
       "      <td>0.004501</td>\n",
       "      <td>0.414251</td>\n",
       "      <td>0.079493</td>\n",
       "      <td>0.050084</td>\n",
       "      <td>0.027617</td>\n",
       "      <td>0.017966</td>\n",
       "      <td>0.032804</td>\n",
       "      <td>...</td>\n",
       "      <td>0.011787</td>\n",
       "      <td>0.043904</td>\n",
       "      <td>0.278341</td>\n",
       "      <td>0.082202</td>\n",
       "      <td>0.093187</td>\n",
       "      <td>0.010757</td>\n",
       "      <td>0.093645</td>\n",
       "      <td>0.020217</td>\n",
       "      <td>0.052487</td>\n",
       "      <td>0.193584</td>\n",
       "    </tr>\n",
       "    <tr>\n",
       "      <th>std</th>\n",
       "      <td>8826.88914</td>\n",
       "      <td>0.435276</td>\n",
       "      <td>0.376218</td>\n",
       "      <td>0.066940</td>\n",
       "      <td>0.492602</td>\n",
       "      <td>0.270513</td>\n",
       "      <td>0.218122</td>\n",
       "      <td>0.163875</td>\n",
       "      <td>0.132831</td>\n",
       "      <td>0.178128</td>\n",
       "      <td>...</td>\n",
       "      <td>0.107927</td>\n",
       "      <td>0.204887</td>\n",
       "      <td>0.448191</td>\n",
       "      <td>0.274677</td>\n",
       "      <td>0.290700</td>\n",
       "      <td>0.103158</td>\n",
       "      <td>0.291340</td>\n",
       "      <td>0.140743</td>\n",
       "      <td>0.223011</td>\n",
       "      <td>0.395114</td>\n",
       "    </tr>\n",
       "    <tr>\n",
       "      <th>min</th>\n",
       "      <td>2.00000</td>\n",
       "      <td>0.000000</td>\n",
       "      <td>0.000000</td>\n",
       "      <td>0.000000</td>\n",
       "      <td>0.000000</td>\n",
       "      <td>0.000000</td>\n",
       "      <td>0.000000</td>\n",
       "      <td>0.000000</td>\n",
       "      <td>0.000000</td>\n",
       "      <td>0.000000</td>\n",
       "      <td>...</td>\n",
       "      <td>0.000000</td>\n",
       "      <td>0.000000</td>\n",
       "      <td>0.000000</td>\n",
       "      <td>0.000000</td>\n",
       "      <td>0.000000</td>\n",
       "      <td>0.000000</td>\n",
       "      <td>0.000000</td>\n",
       "      <td>0.000000</td>\n",
       "      <td>0.000000</td>\n",
       "      <td>0.000000</td>\n",
       "    </tr>\n",
       "    <tr>\n",
       "      <th>25%</th>\n",
       "      <td>7446.75000</td>\n",
       "      <td>1.000000</td>\n",
       "      <td>0.000000</td>\n",
       "      <td>0.000000</td>\n",
       "      <td>0.000000</td>\n",
       "      <td>0.000000</td>\n",
       "      <td>0.000000</td>\n",
       "      <td>0.000000</td>\n",
       "      <td>0.000000</td>\n",
       "      <td>0.000000</td>\n",
       "      <td>...</td>\n",
       "      <td>0.000000</td>\n",
       "      <td>0.000000</td>\n",
       "      <td>0.000000</td>\n",
       "      <td>0.000000</td>\n",
       "      <td>0.000000</td>\n",
       "      <td>0.000000</td>\n",
       "      <td>0.000000</td>\n",
       "      <td>0.000000</td>\n",
       "      <td>0.000000</td>\n",
       "      <td>0.000000</td>\n",
       "    </tr>\n",
       "    <tr>\n",
       "      <th>50%</th>\n",
       "      <td>15662.50000</td>\n",
       "      <td>1.000000</td>\n",
       "      <td>0.000000</td>\n",
       "      <td>0.000000</td>\n",
       "      <td>0.000000</td>\n",
       "      <td>0.000000</td>\n",
       "      <td>0.000000</td>\n",
       "      <td>0.000000</td>\n",
       "      <td>0.000000</td>\n",
       "      <td>0.000000</td>\n",
       "      <td>...</td>\n",
       "      <td>0.000000</td>\n",
       "      <td>0.000000</td>\n",
       "      <td>0.000000</td>\n",
       "      <td>0.000000</td>\n",
       "      <td>0.000000</td>\n",
       "      <td>0.000000</td>\n",
       "      <td>0.000000</td>\n",
       "      <td>0.000000</td>\n",
       "      <td>0.000000</td>\n",
       "      <td>0.000000</td>\n",
       "    </tr>\n",
       "    <tr>\n",
       "      <th>75%</th>\n",
       "      <td>22924.25000</td>\n",
       "      <td>1.000000</td>\n",
       "      <td>0.000000</td>\n",
       "      <td>0.000000</td>\n",
       "      <td>1.000000</td>\n",
       "      <td>0.000000</td>\n",
       "      <td>0.000000</td>\n",
       "      <td>0.000000</td>\n",
       "      <td>0.000000</td>\n",
       "      <td>0.000000</td>\n",
       "      <td>...</td>\n",
       "      <td>0.000000</td>\n",
       "      <td>0.000000</td>\n",
       "      <td>1.000000</td>\n",
       "      <td>0.000000</td>\n",
       "      <td>0.000000</td>\n",
       "      <td>0.000000</td>\n",
       "      <td>0.000000</td>\n",
       "      <td>0.000000</td>\n",
       "      <td>0.000000</td>\n",
       "      <td>0.000000</td>\n",
       "    </tr>\n",
       "    <tr>\n",
       "      <th>max</th>\n",
       "      <td>30265.00000</td>\n",
       "      <td>2.000000</td>\n",
       "      <td>1.000000</td>\n",
       "      <td>1.000000</td>\n",
       "      <td>1.000000</td>\n",
       "      <td>1.000000</td>\n",
       "      <td>1.000000</td>\n",
       "      <td>1.000000</td>\n",
       "      <td>1.000000</td>\n",
       "      <td>1.000000</td>\n",
       "      <td>...</td>\n",
       "      <td>1.000000</td>\n",
       "      <td>1.000000</td>\n",
       "      <td>1.000000</td>\n",
       "      <td>1.000000</td>\n",
       "      <td>1.000000</td>\n",
       "      <td>1.000000</td>\n",
       "      <td>1.000000</td>\n",
       "      <td>1.000000</td>\n",
       "      <td>1.000000</td>\n",
       "      <td>1.000000</td>\n",
       "    </tr>\n",
       "  </tbody>\n",
       "</table>\n",
       "<p>8 rows × 37 columns</p>\n",
       "</div>"
      ],
      "text/plain": [
       "                id       related       request         offer   aid_related  \\\n",
       "count  26216.00000  26216.000000  26216.000000  26216.000000  26216.000000   \n",
       "mean   15224.82133      0.773650      0.170659      0.004501      0.414251   \n",
       "std     8826.88914      0.435276      0.376218      0.066940      0.492602   \n",
       "min        2.00000      0.000000      0.000000      0.000000      0.000000   \n",
       "25%     7446.75000      1.000000      0.000000      0.000000      0.000000   \n",
       "50%    15662.50000      1.000000      0.000000      0.000000      0.000000   \n",
       "75%    22924.25000      1.000000      0.000000      0.000000      1.000000   \n",
       "max    30265.00000      2.000000      1.000000      1.000000      1.000000   \n",
       "\n",
       "       medical_help  medical_products  search_and_rescue      security  \\\n",
       "count  26216.000000      26216.000000       26216.000000  26216.000000   \n",
       "mean       0.079493          0.050084           0.027617      0.017966   \n",
       "std        0.270513          0.218122           0.163875      0.132831   \n",
       "min        0.000000          0.000000           0.000000      0.000000   \n",
       "25%        0.000000          0.000000           0.000000      0.000000   \n",
       "50%        0.000000          0.000000           0.000000      0.000000   \n",
       "75%        0.000000          0.000000           0.000000      0.000000   \n",
       "max        1.000000          1.000000           1.000000      1.000000   \n",
       "\n",
       "           military  ...   aid_centers  other_infrastructure  weather_related  \\\n",
       "count  26216.000000  ...  26216.000000          26216.000000     26216.000000   \n",
       "mean       0.032804  ...      0.011787              0.043904         0.278341   \n",
       "std        0.178128  ...      0.107927              0.204887         0.448191   \n",
       "min        0.000000  ...      0.000000              0.000000         0.000000   \n",
       "25%        0.000000  ...      0.000000              0.000000         0.000000   \n",
       "50%        0.000000  ...      0.000000              0.000000         0.000000   \n",
       "75%        0.000000  ...      0.000000              0.000000         1.000000   \n",
       "max        1.000000  ...      1.000000              1.000000         1.000000   \n",
       "\n",
       "             floods         storm          fire    earthquake          cold  \\\n",
       "count  26216.000000  26216.000000  26216.000000  26216.000000  26216.000000   \n",
       "mean       0.082202      0.093187      0.010757      0.093645      0.020217   \n",
       "std        0.274677      0.290700      0.103158      0.291340      0.140743   \n",
       "min        0.000000      0.000000      0.000000      0.000000      0.000000   \n",
       "25%        0.000000      0.000000      0.000000      0.000000      0.000000   \n",
       "50%        0.000000      0.000000      0.000000      0.000000      0.000000   \n",
       "75%        0.000000      0.000000      0.000000      0.000000      0.000000   \n",
       "max        1.000000      1.000000      1.000000      1.000000      1.000000   \n",
       "\n",
       "       other_weather  direct_report  \n",
       "count   26216.000000   26216.000000  \n",
       "mean        0.052487       0.193584  \n",
       "std         0.223011       0.395114  \n",
       "min         0.000000       0.000000  \n",
       "25%         0.000000       0.000000  \n",
       "50%         0.000000       0.000000  \n",
       "75%         0.000000       0.000000  \n",
       "max         1.000000       1.000000  \n",
       "\n",
       "[8 rows x 37 columns]"
      ]
     },
     "execution_count": 5,
     "metadata": {},
     "output_type": "execute_result"
    }
   ],
   "source": [
    "# A quick look of the data\n",
    "df.describe()"
   ]
  },
  {
   "cell_type": "code",
   "execution_count": 6,
   "metadata": {},
   "outputs": [
    {
     "name": "stdout",
     "output_type": "stream",
     "text": [
      "Summary of the basic information about this dataFrame and its data:\n",
      "<class 'pandas.core.frame.DataFrame'>\n",
      "RangeIndex: 26216 entries, 0 to 26215\n",
      "Data columns (total 40 columns):\n",
      " #   Column                  Non-Null Count  Dtype \n",
      "---  ------                  --------------  ----- \n",
      " 0   id                      26216 non-null  int64 \n",
      " 1   message                 26216 non-null  object\n",
      " 2   original                10170 non-null  object\n",
      " 3   genre                   26216 non-null  object\n",
      " 4   related                 26216 non-null  int64 \n",
      " 5   request                 26216 non-null  int64 \n",
      " 6   offer                   26216 non-null  int64 \n",
      " 7   aid_related             26216 non-null  int64 \n",
      " 8   medical_help            26216 non-null  int64 \n",
      " 9   medical_products        26216 non-null  int64 \n",
      " 10  search_and_rescue       26216 non-null  int64 \n",
      " 11  security                26216 non-null  int64 \n",
      " 12  military                26216 non-null  int64 \n",
      " 13  child_alone             26216 non-null  int64 \n",
      " 14  water                   26216 non-null  int64 \n",
      " 15  food                    26216 non-null  int64 \n",
      " 16  shelter                 26216 non-null  int64 \n",
      " 17  clothing                26216 non-null  int64 \n",
      " 18  money                   26216 non-null  int64 \n",
      " 19  missing_people          26216 non-null  int64 \n",
      " 20  refugees                26216 non-null  int64 \n",
      " 21  death                   26216 non-null  int64 \n",
      " 22  other_aid               26216 non-null  int64 \n",
      " 23  infrastructure_related  26216 non-null  int64 \n",
      " 24  transport               26216 non-null  int64 \n",
      " 25  buildings               26216 non-null  int64 \n",
      " 26  electricity             26216 non-null  int64 \n",
      " 27  tools                   26216 non-null  int64 \n",
      " 28  hospitals               26216 non-null  int64 \n",
      " 29  shops                   26216 non-null  int64 \n",
      " 30  aid_centers             26216 non-null  int64 \n",
      " 31  other_infrastructure    26216 non-null  int64 \n",
      " 32  weather_related         26216 non-null  int64 \n",
      " 33  floods                  26216 non-null  int64 \n",
      " 34  storm                   26216 non-null  int64 \n",
      " 35  fire                    26216 non-null  int64 \n",
      " 36  earthquake              26216 non-null  int64 \n",
      " 37  cold                    26216 non-null  int64 \n",
      " 38  other_weather           26216 non-null  int64 \n",
      " 39  direct_report           26216 non-null  int64 \n",
      "dtypes: int64(37), object(3)\n",
      "memory usage: 8.0+ MB\n",
      "None\n"
     ]
    }
   ],
   "source": [
    "print(\"Summary of the basic information about this dataFrame and its data:\")\n",
    "print(df.info())"
   ]
  },
  {
   "cell_type": "code",
   "execution_count": 7,
   "metadata": {},
   "outputs": [
    {
     "name": "stdout",
     "output_type": "stream",
     "text": [
      "Columns names of the dataframe:\n"
     ]
    },
    {
     "data": {
      "text/plain": [
       "Index(['id', 'message', 'original', 'genre', 'related', 'request', 'offer',\n",
       "       'aid_related', 'medical_help', 'medical_products', 'search_and_rescue',\n",
       "       'security', 'military', 'child_alone', 'water', 'food', 'shelter',\n",
       "       'clothing', 'money', 'missing_people', 'refugees', 'death', 'other_aid',\n",
       "       'infrastructure_related', 'transport', 'buildings', 'electricity',\n",
       "       'tools', 'hospitals', 'shops', 'aid_centers', 'other_infrastructure',\n",
       "       'weather_related', 'floods', 'storm', 'fire', 'earthquake', 'cold',\n",
       "       'other_weather', 'direct_report'],\n",
       "      dtype='object')"
      ]
     },
     "execution_count": 7,
     "metadata": {},
     "output_type": "execute_result"
    }
   ],
   "source": [
    "print(\"Columns names of the dataframe:\")\n",
    "df.columns"
   ]
  },
  {
   "cell_type": "code",
   "execution_count": 8,
   "metadata": {},
   "outputs": [],
   "source": [
    "# Dropping 'child_alone' column\n",
    "df = df.drop(['child_alone'],axis=1)"
   ]
  },
  {
   "cell_type": "code",
   "execution_count": 9,
   "metadata": {},
   "outputs": [],
   "source": [
    "df[\"related\"].replace({2: 0}, inplace=True)"
   ]
  },
  {
   "cell_type": "code",
   "execution_count": 10,
   "metadata": {},
   "outputs": [],
   "source": [
    "# Selecting variables\n",
    "X = df['message']\n",
    "y = df.drop(['id', 'message', 'original', 'genre'], axis=1)"
   ]
  },
  {
   "cell_type": "code",
   "execution_count": 11,
   "metadata": {},
   "outputs": [
    {
     "name": "stdout",
     "output_type": "stream",
     "text": [
      "X shape:\n"
     ]
    },
    {
     "data": {
      "text/plain": [
       "(26216,)"
      ]
     },
     "execution_count": 11,
     "metadata": {},
     "output_type": "execute_result"
    }
   ],
   "source": [
    "print(\"X shape:\")\n",
    "X.shape"
   ]
  },
  {
   "cell_type": "code",
   "execution_count": 12,
   "metadata": {},
   "outputs": [
    {
     "name": "stdout",
     "output_type": "stream",
     "text": [
      "y shape:\n"
     ]
    },
    {
     "data": {
      "text/plain": [
       "(26216, 35)"
      ]
     },
     "execution_count": 12,
     "metadata": {},
     "output_type": "execute_result"
    }
   ],
   "source": [
    "print(\"y shape:\")\n",
    "y.shape"
   ]
  },
  {
   "cell_type": "markdown",
   "metadata": {},
   "source": [
    "### 2. Write a tokenization function to process your text data"
   ]
  },
  {
   "cell_type": "code",
   "execution_count": 13,
   "metadata": {},
   "outputs": [],
   "source": [
    "def tokenize(text, urlplaceholder=\"urlplaceholder\"):\n",
    "    \"\"\"\n",
    "    Function: split text into words and return the root form of the words\n",
    "    Inputs:\n",
    "      text: text messages\n",
    "    Outputs:\n",
    "      root_words: a list of the root form of the message words\n",
    "    \"\"\"\n",
    "    # 1. Replace all urls with a url place holder string\n",
    "    url_rgx = 'http[s]?://(?:[a-zA-Z]|[0-9]|[$-_@.&+]|[!*\\(\\),]|(?:%[0-9a-fA-F][0-9a-fA-F]))+'\n",
    "    \n",
    "    # 2. Extract all the urls from text \n",
    "    urls = re.findall(url_rgx, text)\n",
    "    \n",
    "    # 3. Replace url with a url placeholder string\n",
    "    for url in urls:\n",
    "        text = text.replace(url, urlplaceholder)\n",
    "\n",
    "    # 4. Tokenize text\n",
    "    tokens = nltk.word_tokenize(text)\n",
    "    \n",
    "    # 5. Lemmatization\n",
    "    lemmat = nltk.WordNetLemmatizer()\n",
    "\n",
    "    # 6. List of clean tokens\n",
    "    root_words = [lemmat.lemmatize(w).lower().strip() for w in tokens]\n",
    "    return root_words"
   ]
  },
  {
   "cell_type": "markdown",
   "metadata": {},
   "source": [
    "### 3. Build a machine learning pipeline\n",
    "This machine pipeline should take in the `message` column as input and output classification results on the other 36 categories in the dataset. You may find the [MultiOutputClassifier](http://scikit-learn.org/stable/modules/generated/sklearn.multioutput.MultiOutputClassifier.html) helpful for predicting multiple target variables."
   ]
  },
  {
   "cell_type": "code",
   "execution_count": 14,
   "metadata": {},
   "outputs": [],
   "source": [
    "# Pipeline 1: Adaboost Classifier \n",
    "pipeline_ada = Pipeline([\n",
    "        ('features', FeatureUnion([\n",
    "        ('text_pipeline', Pipeline([\n",
    "        ('count_vectorizer', CountVectorizer(tokenizer=tokenize)),\n",
    "        ('tfidf_transformer', TfidfTransformer())]))\n",
    "        ])),\n",
    "        ('classifier', MultiOutputClassifier(AdaBoostClassifier()))])"
   ]
  },
  {
   "cell_type": "markdown",
   "metadata": {},
   "source": [
    "### 4. Train pipeline\n",
    "- Split data into train and test sets\n",
    "- Train pipeline"
   ]
  },
  {
   "cell_type": "code",
   "execution_count": 15,
   "metadata": {},
   "outputs": [],
   "source": [
    "X_train, X_test, y_train, y_test = train_test_split(X, y)"
   ]
  },
  {
   "cell_type": "code",
   "execution_count": 16,
   "metadata": {},
   "outputs": [],
   "source": [
    "pipeline_ada_fit = pipeline_ada.fit(X_train, y_train)"
   ]
  },
  {
   "cell_type": "markdown",
   "metadata": {},
   "source": [
    "### 5. Test your model\n",
    "Report the f1 score, precision and recall for each output category of the dataset. You can do this by iterating through the columns and calling sklearn's `classification_report` on each."
   ]
  },
  {
   "cell_type": "code",
   "execution_count": 17,
   "metadata": {},
   "outputs": [],
   "source": [
    "y_pred_train = pipeline_ada_fit.predict(X_train)\n",
    "y_pred_test  = pipeline_ada_fit.predict(X_test)"
   ]
  },
  {
   "cell_type": "code",
   "execution_count": 18,
   "metadata": {},
   "outputs": [
    {
     "name": "stdout",
     "output_type": "stream",
     "text": [
      "\n",
      "                         precision    recall  f1-score   support\n",
      "\n",
      "               related       0.83      0.94      0.88     14915\n",
      "               request       0.80      0.56      0.66      3367\n",
      "                 offer       0.35      0.07      0.12        80\n",
      "           aid_related       0.77      0.62      0.68      8174\n",
      "          medical_help       0.64      0.28      0.39      1559\n",
      "      medical_products       0.71      0.35      0.47       993\n",
      "     search_and_rescue       0.69      0.23      0.34       540\n",
      "              security       0.40      0.06      0.11       337\n",
      "              military       0.66      0.37      0.47       660\n",
      "                 water       0.79      0.65      0.71      1229\n",
      "                  food       0.81      0.69      0.75      2184\n",
      "               shelter       0.80      0.58      0.67      1739\n",
      "              clothing       0.78      0.46      0.58       305\n",
      "                 money       0.65      0.34      0.45       447\n",
      "        missing_people       0.68      0.21      0.32       224\n",
      "              refugees       0.65      0.27      0.38       642\n",
      "                 death       0.78      0.47      0.58       868\n",
      "             other_aid       0.58      0.16      0.25      2626\n",
      "infrastructure_related       0.49      0.09      0.15      1266\n",
      "             transport       0.76      0.22      0.34       859\n",
      "             buildings       0.70      0.41      0.52       972\n",
      "           electricity       0.63      0.31      0.42       394\n",
      "                 tools       0.71      0.10      0.18       120\n",
      "             hospitals       0.48      0.13      0.21       206\n",
      "                 shops       0.62      0.06      0.11        85\n",
      "           aid_centers       0.49      0.12      0.19       229\n",
      "  other_infrastructure       0.46      0.10      0.17       852\n",
      "       weather_related       0.87      0.65      0.74      5429\n",
      "                floods       0.89      0.57      0.70      1625\n",
      "                 storm       0.78      0.49      0.60      1799\n",
      "                  fire       0.75      0.37      0.50       213\n",
      "            earthquake       0.89      0.79      0.84      1825\n",
      "                  cold       0.80      0.37      0.51       403\n",
      "         other_weather       0.57      0.20      0.30      1027\n",
      "         direct_report       0.76      0.48      0.59      3793\n",
      "\n",
      "             micro avg       0.79      0.59      0.68     61986\n",
      "             macro avg       0.69      0.36      0.45     61986\n",
      "          weighted avg       0.77      0.59      0.65     61986\n",
      "           samples avg       0.64      0.51      0.52     61986\n",
      "\n"
     ]
    },
    {
     "name": "stderr",
     "output_type": "stream",
     "text": [
      "C:\\Users\\FELIPE\\anaconda3\\lib\\site-packages\\sklearn\\metrics\\_classification.py:1248: UndefinedMetricWarning: Precision and F-score are ill-defined and being set to 0.0 in samples with no predicted labels. Use `zero_division` parameter to control this behavior.\n",
      "  _warn_prf(average, modifier, msg_start, len(result))\n",
      "C:\\Users\\FELIPE\\anaconda3\\lib\\site-packages\\sklearn\\metrics\\_classification.py:1248: UndefinedMetricWarning: Recall and F-score are ill-defined and being set to 0.0 in samples with no true labels. Use `zero_division` parameter to control this behavior.\n",
      "  _warn_prf(average, modifier, msg_start, len(result))\n"
     ]
    }
   ],
   "source": [
    "# training data\n",
    "print('\\n',classification_report(y_train.values, y_pred_train, target_names=y.columns.values))"
   ]
  },
  {
   "cell_type": "code",
   "execution_count": 19,
   "metadata": {},
   "outputs": [
    {
     "name": "stdout",
     "output_type": "stream",
     "text": [
      "                        precision    recall  f1-score   support\n",
      "\n",
      "               related       0.83      0.93      0.88      4991\n",
      "               request       0.77      0.57      0.65      1107\n",
      "                 offer       0.08      0.03      0.04        38\n",
      "           aid_related       0.76      0.61      0.68      2686\n",
      "          medical_help       0.63      0.30      0.41       525\n",
      "      medical_products       0.62      0.32      0.42       320\n",
      "     search_and_rescue       0.58      0.20      0.29       184\n",
      "              security       0.18      0.02      0.04       134\n",
      "              military       0.63      0.37      0.47       200\n",
      "                 water       0.76      0.62      0.68       443\n",
      "                  food       0.78      0.70      0.74       739\n",
      "               shelter       0.74      0.56      0.64       575\n",
      "              clothing       0.72      0.46      0.56       100\n",
      "                 money       0.54      0.22      0.32       157\n",
      "        missing_people       0.57      0.22      0.31        74\n",
      "              refugees       0.59      0.26      0.36       233\n",
      "                 death       0.76      0.48      0.58       326\n",
      "             other_aid       0.45      0.15      0.22       820\n",
      "infrastructure_related       0.58      0.12      0.20       439\n",
      "             transport       0.65      0.19      0.29       342\n",
      "             buildings       0.68      0.40      0.51       361\n",
      "           electricity       0.56      0.20      0.29       138\n",
      "                 tools       0.00      0.00      0.00        39\n",
      "             hospitals       0.37      0.09      0.15        77\n",
      "                 shops       0.00      0.00      0.00        35\n",
      "           aid_centers       0.29      0.09      0.13        80\n",
      "  other_infrastructure       0.41      0.10      0.16       299\n",
      "       weather_related       0.87      0.64      0.74      1868\n",
      "                floods       0.85      0.54      0.66       530\n",
      "                 storm       0.78      0.51      0.62       644\n",
      "                  fire       0.38      0.17      0.24        69\n",
      "            earthquake       0.87      0.78      0.82       630\n",
      "                  cold       0.66      0.30      0.41       127\n",
      "         other_weather       0.52      0.17      0.26       349\n",
      "         direct_report       0.72      0.48      0.57      1282\n",
      "\n",
      "             micro avg       0.78      0.58      0.67     20961\n",
      "             macro avg       0.58      0.34      0.41     20961\n",
      "          weighted avg       0.74      0.58      0.63     20961\n",
      "           samples avg       0.63      0.50      0.51     20961\n",
      "\n"
     ]
    },
    {
     "name": "stderr",
     "output_type": "stream",
     "text": [
      "C:\\Users\\FELIPE\\anaconda3\\lib\\site-packages\\sklearn\\metrics\\_classification.py:1248: UndefinedMetricWarning: Precision and F-score are ill-defined and being set to 0.0 in labels with no predicted samples. Use `zero_division` parameter to control this behavior.\n",
      "  _warn_prf(average, modifier, msg_start, len(result))\n",
      "C:\\Users\\FELIPE\\anaconda3\\lib\\site-packages\\sklearn\\metrics\\_classification.py:1248: UndefinedMetricWarning: Precision and F-score are ill-defined and being set to 0.0 in samples with no predicted labels. Use `zero_division` parameter to control this behavior.\n",
      "  _warn_prf(average, modifier, msg_start, len(result))\n",
      "C:\\Users\\FELIPE\\anaconda3\\lib\\site-packages\\sklearn\\metrics\\_classification.py:1248: UndefinedMetricWarning: Recall and F-score are ill-defined and being set to 0.0 in samples with no true labels. Use `zero_division` parameter to control this behavior.\n",
      "  _warn_prf(average, modifier, msg_start, len(result))\n"
     ]
    }
   ],
   "source": [
    "# test data\n",
    "print(classification_report(y_test.values, y_pred_test, target_names=y.columns.values))"
   ]
  },
  {
   "cell_type": "markdown",
   "metadata": {},
   "source": [
    "### 6. Improve your model\n",
    "Use grid search to find better parameters. "
   ]
  },
  {
   "cell_type": "code",
   "execution_count": 20,
   "metadata": {},
   "outputs": [
    {
     "name": "stdout",
     "output_type": "stream",
     "text": [
      "Parameters of the AdaBoostClassifier Pipeline\n"
     ]
    },
    {
     "data": {
      "text/plain": [
       "dict_keys(['memory', 'steps', 'verbose', 'features', 'classifier', 'features__n_jobs', 'features__transformer_list', 'features__transformer_weights', 'features__verbose', 'features__text_pipeline', 'features__text_pipeline__memory', 'features__text_pipeline__steps', 'features__text_pipeline__verbose', 'features__text_pipeline__count_vectorizer', 'features__text_pipeline__tfidf_transformer', 'features__text_pipeline__count_vectorizer__analyzer', 'features__text_pipeline__count_vectorizer__binary', 'features__text_pipeline__count_vectorizer__decode_error', 'features__text_pipeline__count_vectorizer__dtype', 'features__text_pipeline__count_vectorizer__encoding', 'features__text_pipeline__count_vectorizer__input', 'features__text_pipeline__count_vectorizer__lowercase', 'features__text_pipeline__count_vectorizer__max_df', 'features__text_pipeline__count_vectorizer__max_features', 'features__text_pipeline__count_vectorizer__min_df', 'features__text_pipeline__count_vectorizer__ngram_range', 'features__text_pipeline__count_vectorizer__preprocessor', 'features__text_pipeline__count_vectorizer__stop_words', 'features__text_pipeline__count_vectorizer__strip_accents', 'features__text_pipeline__count_vectorizer__token_pattern', 'features__text_pipeline__count_vectorizer__tokenizer', 'features__text_pipeline__count_vectorizer__vocabulary', 'features__text_pipeline__tfidf_transformer__norm', 'features__text_pipeline__tfidf_transformer__smooth_idf', 'features__text_pipeline__tfidf_transformer__sublinear_tf', 'features__text_pipeline__tfidf_transformer__use_idf', 'classifier__estimator__algorithm', 'classifier__estimator__base_estimator', 'classifier__estimator__learning_rate', 'classifier__estimator__n_estimators', 'classifier__estimator__random_state', 'classifier__estimator', 'classifier__n_jobs'])"
      ]
     },
     "execution_count": 20,
     "metadata": {},
     "output_type": "execute_result"
    }
   ],
   "source": [
    "print(\"Parameters of the AdaBoostClassifier Pipeline\")\n",
    "pipeline_ada.get_params().keys()"
   ]
  },
  {
   "cell_type": "code",
   "execution_count": 21,
   "metadata": {},
   "outputs": [],
   "source": [
    "param_ada = {'classifier__estimator__learning_rate': [0.01, 0.03, 0.05],\n",
    "             'classifier__estimator__n_estimators': [10, 30, 50]}\n",
    "\n",
    "cv_ada = GridSearchCV(pipeline_ada, param_grid=param_ada, scoring='f1_micro', n_jobs=-1)"
   ]
  },
  {
   "cell_type": "code",
   "execution_count": 22,
   "metadata": {},
   "outputs": [
    {
     "data": {
      "text/plain": [
       "GridSearchCV(estimator=Pipeline(steps=[('features',\n",
       "                                        FeatureUnion(transformer_list=[('text_pipeline',\n",
       "                                                                        Pipeline(steps=[('count_vectorizer',\n",
       "                                                                                         CountVectorizer(tokenizer=<function tokenize at 0x0000020DFC9B0AF0>)),\n",
       "                                                                                        ('tfidf_transformer',\n",
       "                                                                                         TfidfTransformer())]))])),\n",
       "                                       ('classifier',\n",
       "                                        MultiOutputClassifier(estimator=AdaBoostClassifier()))]),\n",
       "             n_jobs=-1,\n",
       "             param_grid={'classifier__estimator__learning_rate': [0.01, 0.03,\n",
       "                                                                  0.05],\n",
       "                         'classifier__estimator__n_estimators': [10, 30, 50]},\n",
       "             scoring='f1_micro')"
      ]
     },
     "execution_count": 22,
     "metadata": {},
     "output_type": "execute_result"
    }
   ],
   "source": [
    "cv_ada.fit(X_train, y_train)"
   ]
  },
  {
   "cell_type": "code",
   "execution_count": 23,
   "metadata": {},
   "outputs": [],
   "source": [
    "y_pred_test  = cv_ada.predict(X_test)\n",
    "y_pred_train = cv_ada.predict(X_train)"
   ]
  },
  {
   "cell_type": "markdown",
   "metadata": {},
   "source": [
    "### 7. Test your model\n",
    "Show the accuracy, precision, and recall of the tuned model.  \n",
    "\n",
    "Since this project focuses on code quality, process, and  pipelines, there is no minimum performance metric needed to pass. However, make sure to fine tune your models for accuracy, precision and recall to make your project stand out - especially for your portfolio!"
   ]
  },
  {
   "cell_type": "code",
   "execution_count": 24,
   "metadata": {},
   "outputs": [
    {
     "name": "stdout",
     "output_type": "stream",
     "text": [
      "\n",
      "                         precision    recall  f1-score   support\n",
      "\n",
      "               related       0.76      1.00      0.86     14915\n",
      "               request       0.60      0.38      0.47      3367\n",
      "                 offer       1.00      0.03      0.05        80\n",
      "           aid_related       0.80      0.19      0.30      8174\n",
      "          medical_help       0.64      0.11      0.19      1559\n",
      "      medical_products       0.75      0.13      0.22       993\n",
      "     search_and_rescue       0.61      0.19      0.29       540\n",
      "              security       0.00      0.00      0.00       337\n",
      "              military       0.29      0.00      0.01       660\n",
      "                 water       0.57      0.86      0.69      1229\n",
      "                  food       0.78      0.68      0.72      2184\n",
      "               shelter       0.84      0.29      0.43      1739\n",
      "              clothing       0.76      0.32      0.45       305\n",
      "                 money       0.59      0.19      0.29       447\n",
      "        missing_people       0.68      0.25      0.37       224\n",
      "              refugees       0.83      0.02      0.03       642\n",
      "                 death       0.76      0.16      0.26       868\n",
      "             other_aid       0.00      0.00      0.00      2626\n",
      "infrastructure_related       0.00      0.00      0.00      1266\n",
      "             transport       0.56      0.25      0.34       859\n",
      "             buildings       0.00      0.00      0.00       972\n",
      "           electricity       0.00      0.00      0.00       394\n",
      "                 tools       0.83      0.04      0.08       120\n",
      "             hospitals       0.00      0.00      0.00       206\n",
      "                 shops       1.00      0.02      0.05        85\n",
      "           aid_centers       0.00      0.00      0.00       229\n",
      "  other_infrastructure       0.00      0.00      0.00       852\n",
      "       weather_related       0.91      0.22      0.35      5429\n",
      "                floods       0.91      0.34      0.49      1625\n",
      "                 storm       0.73      0.25      0.38      1799\n",
      "                  fire       0.53      0.44      0.48       213\n",
      "            earthquake       0.90      0.64      0.75      1825\n",
      "                  cold       0.68      0.23      0.34       403\n",
      "         other_weather       0.58      0.12      0.20      1027\n",
      "         direct_report       0.63      0.39      0.48      3793\n",
      "\n",
      "             micro avg       0.74      0.43      0.55     61986\n",
      "             macro avg       0.56      0.22      0.27     61986\n",
      "          weighted avg       0.67      0.43      0.46     61986\n",
      "           samples avg       0.70      0.44      0.48     61986\n",
      "\n"
     ]
    },
    {
     "name": "stderr",
     "output_type": "stream",
     "text": [
      "C:\\Users\\FELIPE\\anaconda3\\lib\\site-packages\\sklearn\\metrics\\_classification.py:1248: UndefinedMetricWarning: Precision and F-score are ill-defined and being set to 0.0 in labels with no predicted samples. Use `zero_division` parameter to control this behavior.\n",
      "  _warn_prf(average, modifier, msg_start, len(result))\n",
      "C:\\Users\\FELIPE\\anaconda3\\lib\\site-packages\\sklearn\\metrics\\_classification.py:1248: UndefinedMetricWarning: Recall and F-score are ill-defined and being set to 0.0 in samples with no true labels. Use `zero_division` parameter to control this behavior.\n",
      "  _warn_prf(average, modifier, msg_start, len(result))\n"
     ]
    }
   ],
   "source": [
    "# training data\n",
    "print('\\n',classification_report(y_train.values, y_pred_train, target_names=y.columns.values))"
   ]
  },
  {
   "cell_type": "code",
   "execution_count": 25,
   "metadata": {},
   "outputs": [
    {
     "name": "stdout",
     "output_type": "stream",
     "text": [
      "                        precision    recall  f1-score   support\n",
      "\n",
      "               related       0.76      1.00      0.86      4991\n",
      "               request       0.63      0.40      0.49      1107\n",
      "                 offer       0.00      0.00      0.00        38\n",
      "           aid_related       0.81      0.20      0.32      2686\n",
      "          medical_help       0.61      0.12      0.20       525\n",
      "      medical_products       0.66      0.13      0.22       320\n",
      "     search_and_rescue       0.66      0.21      0.31       184\n",
      "              security       0.00      0.00      0.00       134\n",
      "              military       0.00      0.00      0.00       200\n",
      "                 water       0.59      0.81      0.69       443\n",
      "                  food       0.76      0.67      0.72       739\n",
      "               shelter       0.84      0.31      0.45       575\n",
      "              clothing       0.76      0.28      0.41       100\n",
      "                 money       0.39      0.08      0.13       157\n",
      "        missing_people       0.66      0.28      0.40        74\n",
      "              refugees       0.50      0.00      0.01       233\n",
      "                 death       0.72      0.18      0.29       326\n",
      "             other_aid       0.00      0.00      0.00       820\n",
      "infrastructure_related       0.00      0.00      0.00       439\n",
      "             transport       0.63      0.25      0.36       342\n",
      "             buildings       0.00      0.00      0.00       361\n",
      "           electricity       0.00      0.00      0.00       138\n",
      "                 tools       0.00      0.00      0.00        39\n",
      "             hospitals       0.00      0.00      0.00        77\n",
      "                 shops       0.00      0.00      0.00        35\n",
      "           aid_centers       0.00      0.00      0.00        80\n",
      "  other_infrastructure       0.00      0.00      0.00       299\n",
      "       weather_related       0.91      0.23      0.37      1868\n",
      "                floods       0.92      0.33      0.49       530\n",
      "                 storm       0.76      0.27      0.40       644\n",
      "                  fire       0.46      0.28      0.35        69\n",
      "            earthquake       0.89      0.66      0.76       630\n",
      "                  cold       0.68      0.20      0.32       127\n",
      "         other_weather       0.60      0.11      0.18       349\n",
      "         direct_report       0.64      0.39      0.49      1282\n",
      "\n",
      "             micro avg       0.75      0.44      0.55     20961\n",
      "             macro avg       0.45      0.21      0.26     20961\n",
      "          weighted avg       0.66      0.44      0.47     20961\n",
      "           samples avg       0.70      0.44      0.49     20961\n",
      "\n"
     ]
    },
    {
     "name": "stderr",
     "output_type": "stream",
     "text": [
      "C:\\Users\\FELIPE\\anaconda3\\lib\\site-packages\\sklearn\\metrics\\_classification.py:1248: UndefinedMetricWarning: Precision and F-score are ill-defined and being set to 0.0 in labels with no predicted samples. Use `zero_division` parameter to control this behavior.\n",
      "  _warn_prf(average, modifier, msg_start, len(result))\n",
      "C:\\Users\\FELIPE\\anaconda3\\lib\\site-packages\\sklearn\\metrics\\_classification.py:1248: UndefinedMetricWarning: Recall and F-score are ill-defined and being set to 0.0 in samples with no true labels. Use `zero_division` parameter to control this behavior.\n",
      "  _warn_prf(average, modifier, msg_start, len(result))\n"
     ]
    }
   ],
   "source": [
    "# test data\n",
    "print(classification_report(y_test.values, y_pred_test, target_names=y.columns.values))"
   ]
  },
  {
   "cell_type": "markdown",
   "metadata": {},
   "source": [
    "### 8. Try improving your model further. Here are a few ideas:\n",
    "* try other machine learning algorithms\n",
    "* add other features besides the TF-IDF"
   ]
  },
  {
   "cell_type": "code",
   "execution_count": 26,
   "metadata": {},
   "outputs": [],
   "source": [
    "# Pipeline 2: Naive Bayes classifier\n",
    "pipeline_nbc = Pipeline([\n",
    "        ('features', FeatureUnion([\n",
    "        ('text_pipeline', Pipeline([\n",
    "        ('count_vectorizer', CountVectorizer(tokenizer=tokenize)),\n",
    "        ('tfidf_transformer', TfidfTransformer())]))\n",
    "        ])),\n",
    "        ('classifier', MultiOutputClassifier(MultinomialNB()))])"
   ]
  },
  {
   "cell_type": "code",
   "execution_count": 27,
   "metadata": {},
   "outputs": [],
   "source": [
    "X_train, X_test, y_train, y_test = train_test_split(X, y)"
   ]
  },
  {
   "cell_type": "code",
   "execution_count": 28,
   "metadata": {},
   "outputs": [],
   "source": [
    "pipeline_nbc_fit = pipeline_nbc.fit(X_train, y_train)"
   ]
  },
  {
   "cell_type": "code",
   "execution_count": 29,
   "metadata": {},
   "outputs": [],
   "source": [
    "y_pred_train_nbc = pipeline_nbc_fit.predict(X_train)\n",
    "y_pred_test_nbc  = pipeline_nbc_fit.predict(X_test)"
   ]
  },
  {
   "cell_type": "code",
   "execution_count": 30,
   "metadata": {},
   "outputs": [
    {
     "name": "stdout",
     "output_type": "stream",
     "text": [
      "\n",
      "                         precision    recall  f1-score   support\n",
      "\n",
      "               related       0.78      1.00      0.88     14975\n",
      "               request       0.93      0.22      0.35      3389\n",
      "                 offer       0.00      0.00      0.00        92\n",
      "           aid_related       0.87      0.70      0.77      8131\n",
      "          medical_help       0.00      0.00      0.00      1566\n",
      "      medical_products       0.20      0.00      0.00       992\n",
      "     search_and_rescue       0.00      0.00      0.00       537\n",
      "              security       0.00      0.00      0.00       363\n",
      "              military       0.00      0.00      0.00       670\n",
      "                 water       0.00      0.00      0.00      1239\n",
      "                  food       0.76      0.02      0.04      2228\n",
      "               shelter       0.29      0.00      0.00      1736\n",
      "              clothing       0.00      0.00      0.00       298\n",
      "                 money       0.00      0.00      0.00       465\n",
      "        missing_people       0.00      0.00      0.00       213\n",
      "              refugees       0.00      0.00      0.00       635\n",
      "                 death       0.00      0.00      0.00       901\n",
      "             other_aid       0.12      0.00      0.00      2579\n",
      "infrastructure_related       0.00      0.00      0.00      1314\n",
      "             transport       0.00      0.00      0.00       891\n",
      "             buildings       0.00      0.00      0.00      1007\n",
      "           electricity       0.00      0.00      0.00       383\n",
      "                 tools       0.00      0.00      0.00       121\n",
      "             hospitals       0.00      0.00      0.00       217\n",
      "                 shops       0.00      0.00      0.00       100\n",
      "           aid_centers       0.00      0.00      0.00       238\n",
      "  other_infrastructure       0.00      0.00      0.00       882\n",
      "       weather_related       0.92      0.45      0.60      5475\n",
      "                floods       0.48      0.01      0.01      1620\n",
      "                 storm       0.75      0.02      0.04      1829\n",
      "                  fire       0.00      0.00      0.00       204\n",
      "            earthquake       0.90      0.13      0.22      1833\n",
      "                  cold       0.00      0.00      0.00       404\n",
      "         other_weather       0.00      0.00      0.00      1060\n",
      "         direct_report       0.91      0.19      0.32      3853\n",
      "\n",
      "             micro avg       0.82      0.40      0.54     62440\n",
      "             macro avg       0.23      0.08      0.09     62440\n",
      "          weighted avg       0.59      0.40      0.41     62440\n",
      "           samples avg       0.74      0.42      0.49     62440\n",
      "\n"
     ]
    },
    {
     "name": "stderr",
     "output_type": "stream",
     "text": [
      "C:\\Users\\FELIPE\\anaconda3\\lib\\site-packages\\sklearn\\metrics\\_classification.py:1248: UndefinedMetricWarning: Precision and F-score are ill-defined and being set to 0.0 in samples with no predicted labels. Use `zero_division` parameter to control this behavior.\n",
      "  _warn_prf(average, modifier, msg_start, len(result))\n",
      "C:\\Users\\FELIPE\\anaconda3\\lib\\site-packages\\sklearn\\metrics\\_classification.py:1248: UndefinedMetricWarning: Recall and F-score are ill-defined and being set to 0.0 in samples with no true labels. Use `zero_division` parameter to control this behavior.\n",
      "  _warn_prf(average, modifier, msg_start, len(result))\n"
     ]
    }
   ],
   "source": [
    "# training data\n",
    "print('\\n',classification_report(y_train.values, y_pred_train_nbc, target_names=y.columns.values))"
   ]
  },
  {
   "cell_type": "code",
   "execution_count": 31,
   "metadata": {},
   "outputs": [
    {
     "name": "stdout",
     "output_type": "stream",
     "text": [
      "                        precision    recall  f1-score   support\n",
      "\n",
      "               related       0.76      1.00      0.86      4931\n",
      "               request       0.90      0.14      0.25      1085\n",
      "                 offer       0.00      0.00      0.00        26\n",
      "           aid_related       0.77      0.58      0.66      2729\n",
      "          medical_help       0.00      0.00      0.00       518\n",
      "      medical_products       1.00      0.00      0.01       321\n",
      "     search_and_rescue       0.00      0.00      0.00       187\n",
      "              security       0.00      0.00      0.00       108\n",
      "              military       0.00      0.00      0.00       190\n",
      "                 water       0.00      0.00      0.00       433\n",
      "                  food       0.36      0.01      0.01       695\n",
      "               shelter       0.00      0.00      0.00       578\n",
      "              clothing       0.00      0.00      0.00       107\n",
      "                 money       0.00      0.00      0.00       139\n",
      "        missing_people       0.00      0.00      0.00        85\n",
      "              refugees       0.00      0.00      0.00       240\n",
      "                 death       0.00      0.00      0.00       293\n",
      "             other_aid       0.00      0.00      0.00       867\n",
      "infrastructure_related       0.00      0.00      0.00       391\n",
      "             transport       0.00      0.00      0.00       310\n",
      "             buildings       0.00      0.00      0.00       326\n",
      "           electricity       0.00      0.00      0.00       149\n",
      "                 tools       0.00      0.00      0.00        38\n",
      "             hospitals       0.00      0.00      0.00        66\n",
      "                 shops       0.00      0.00      0.00        20\n",
      "           aid_centers       0.00      0.00      0.00        71\n",
      "  other_infrastructure       0.00      0.00      0.00       269\n",
      "       weather_related       0.86      0.33      0.47      1822\n",
      "                floods       0.00      0.00      0.00       535\n",
      "                 storm       1.00      0.00      0.01       614\n",
      "                  fire       0.00      0.00      0.00        78\n",
      "            earthquake       0.92      0.08      0.15       622\n",
      "                  cold       0.00      0.00      0.00       126\n",
      "         other_weather       0.00      0.00      0.00       316\n",
      "         direct_report       0.88      0.13      0.22      1222\n",
      "\n",
      "             micro avg       0.78      0.36      0.50     20507\n",
      "             macro avg       0.21      0.06      0.08     20507\n",
      "          weighted avg       0.55      0.36      0.37     20507\n",
      "           samples avg       0.72      0.39      0.46     20507\n",
      "\n"
     ]
    },
    {
     "name": "stderr",
     "output_type": "stream",
     "text": [
      "C:\\Users\\FELIPE\\anaconda3\\lib\\site-packages\\sklearn\\metrics\\_classification.py:1248: UndefinedMetricWarning: Precision and F-score are ill-defined and being set to 0.0 in labels with no predicted samples. Use `zero_division` parameter to control this behavior.\n",
      "  _warn_prf(average, modifier, msg_start, len(result))\n",
      "C:\\Users\\FELIPE\\anaconda3\\lib\\site-packages\\sklearn\\metrics\\_classification.py:1248: UndefinedMetricWarning: Precision and F-score are ill-defined and being set to 0.0 in samples with no predicted labels. Use `zero_division` parameter to control this behavior.\n",
      "  _warn_prf(average, modifier, msg_start, len(result))\n",
      "C:\\Users\\FELIPE\\anaconda3\\lib\\site-packages\\sklearn\\metrics\\_classification.py:1248: UndefinedMetricWarning: Recall and F-score are ill-defined and being set to 0.0 in samples with no true labels. Use `zero_division` parameter to control this behavior.\n",
      "  _warn_prf(average, modifier, msg_start, len(result))\n"
     ]
    }
   ],
   "source": [
    "# test data\n",
    "print(classification_report(y_test.values, y_pred_test_nbc, target_names=y.columns.values))"
   ]
  },
  {
   "cell_type": "markdown",
   "metadata": {},
   "source": [
    "### 9. Export your model as a pickle file"
   ]
  },
  {
   "cell_type": "code",
   "execution_count": 32,
   "metadata": {},
   "outputs": [],
   "source": [
    "m = pickle.dumps('classifier.pkl')"
   ]
  },
  {
   "cell_type": "markdown",
   "metadata": {},
   "source": [
    "### 10. Use this notebook to complete `train.py`\n",
    "Use the template file attached in the Resources folder to write a script that runs the steps above to create a database and export a model based on a new dataset specified by the user."
   ]
  },
  {
   "cell_type": "code",
   "execution_count": null,
   "metadata": {},
   "outputs": [],
   "source": []
  }
 ],
 "metadata": {
  "kernelspec": {
   "display_name": "Python 3",
   "language": "python",
   "name": "python3"
  },
  "language_info": {
   "codemirror_mode": {
    "name": "ipython",
    "version": 3
   },
   "file_extension": ".py",
   "mimetype": "text/x-python",
   "name": "python",
   "nbconvert_exporter": "python",
   "pygments_lexer": "ipython3",
   "version": "3.8.5"
  }
 },
 "nbformat": 4,
 "nbformat_minor": 4
}
